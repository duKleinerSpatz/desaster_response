{
 "cells": [
  {
   "cell_type": "markdown",
   "metadata": {
    "toc": true
   },
   "source": [
    "<h1>Table of Contents<span class=\"tocSkip\"></span></h1>\n",
    "<div class=\"toc\"><ul class=\"toc-item\"><li><span><a href=\"#1.-Import-libraries-and-load-data-from-database.\" data-toc-modified-id=\"1.-Import-libraries-and-load-data-from-database.-1\">1. Import libraries and load data from database.</a></span></li><li><span><a href=\"#2.-Write-a-tokenization-function-to-process-your-text-data\" data-toc-modified-id=\"2.-Write-a-tokenization-function-to-process-your-text-data-2\">2. Write a tokenization function to process your text data</a></span></li><li><span><a href=\"#3.-Build-a-machine-learning-pipeline\" data-toc-modified-id=\"3.-Build-a-machine-learning-pipeline-3\">3. Build a machine learning pipeline</a></span></li><li><span><a href=\"#4.-Train-pipeline\" data-toc-modified-id=\"4.-Train-pipeline-4\">4. Train pipeline</a></span></li><li><span><a href=\"#5.-Test-your-model\" data-toc-modified-id=\"5.-Test-your-model-5\">5. Test your model</a></span></li><li><span><a href=\"#Results-with-5%-sample-of-the-data\" data-toc-modified-id=\"Results-with-5%-sample-of-the-data-6\">Results with 5% sample of the data</a></span></li><li><span><a href=\"#Results-with-10%-sample-of-the-data:\" data-toc-modified-id=\"Results-with-10%-sample-of-the-data:-7\">Results with 10% sample of the data:</a></span></li><li><span><a href=\"#Conclusion-/-Choice-of-classifier\" data-toc-modified-id=\"Conclusion-/-Choice-of-classifier-8\">Conclusion / Choice of classifier</a></span></li><li><span><a href=\"#6.-Improve-your-model\" data-toc-modified-id=\"6.-Improve-your-model-9\">6. Improve your model</a></span></li><li><span><a href=\"#7.-Test-your-model\" data-toc-modified-id=\"7.-Test-your-model-10\">7. Test your model</a></span></li><li><span><a href=\"#Results-after-GridSearchCV:\" data-toc-modified-id=\"Results-after-GridSearchCV:-11\">Results after GridSearchCV:</a></span></li><li><span><a href=\"#8.-Try-improving-your-model-further.-Here-are-a-few-ideas:\" data-toc-modified-id=\"8.-Try-improving-your-model-further.-Here-are-a-few-ideas:-12\">8. Try improving your model further. Here are a few ideas:</a></span></li><li><span><a href=\"#9.-Export-your-model-as-a-pickle-file\" data-toc-modified-id=\"9.-Export-your-model-as-a-pickle-file-13\">9. Export your model as a pickle file</a></span></li><li><span><a href=\"#10.-Use-this-notebook-to-complete-train.py\" data-toc-modified-id=\"10.-Use-this-notebook-to-complete-train.py-14\">10. Use this notebook to complete <code>train.py</code></a></span></li></ul></div>"
   ]
  },
  {
   "cell_type": "markdown",
   "metadata": {},
   "source": [
    "# ML Pipeline Preparation\n",
    "Follow the instructions below to help you create your ML pipeline.\n",
    "### 1. Import libraries and load data from database.\n",
    "- Import Python libraries\n",
    "- Load dataset from database with [`read_sql_table`](https://pandas.pydata.org/pandas-docs/stable/generated/pandas.read_sql_table.html)\n",
    "- Define feature and target variables X and Y"
   ]
  },
  {
   "cell_type": "code",
   "execution_count": 21,
   "metadata": {},
   "outputs": [
    {
     "name": "stderr",
     "output_type": "stream",
     "text": [
      "[nltk_data] Downloading package wordnet to\n",
      "[nltk_data]     C:\\Users\\thoma\\AppData\\Roaming\\nltk_data...\n",
      "[nltk_data]   Package wordnet is already up-to-date!\n",
      "[nltk_data] Downloading package punkt to\n",
      "[nltk_data]     C:\\Users\\thoma\\AppData\\Roaming\\nltk_data...\n",
      "[nltk_data]   Package punkt is already up-to-date!\n"
     ]
    },
    {
     "data": {
      "text/plain": [
       "True"
      ]
     },
     "execution_count": 21,
     "metadata": {},
     "output_type": "execute_result"
    }
   ],
   "source": [
    "# import libraries\n",
    "import pandas as pd\n",
    "import time\n",
    "from datetime import datetime\n",
    "from IPython.core.display import display, HTML\n",
    "from sqlalchemy import create_engine\n",
    "import pickle\n",
    "import re\n",
    "import nltk\n",
    "from nltk.tokenize import word_tokenize\n",
    "from nltk.tokenize import sent_tokenize\n",
    "from nltk.corpus import stopwords\n",
    "from nltk.stem.wordnet import WordNetLemmatizer\n",
    "from sklearn.pipeline import Pipeline\n",
    "from sklearn.feature_extraction.text import TfidfVectorizer\n",
    "from sklearn.preprocessing import FunctionTransformer\n",
    "from sklearn.multioutput import MultiOutputClassifier\n",
    "from sklearn.ensemble import RandomForestClassifier, AdaBoostClassifier\n",
    "from sklearn.naive_bayes import GaussianNB\n",
    "from sklearn.neural_network import MLPClassifier\n",
    "from sklearn.neighbors import KNeighborsClassifier\n",
    "from sklearn.model_selection import train_test_split,  GridSearchCV\n",
    "from sklearn.metrics import classification_report, accuracy_score, f1_score, recall_score, precision_score\n",
    "\n",
    "nltk.download([\"wordnet\", \"punkt\"])"
   ]
  },
  {
   "cell_type": "code",
   "execution_count": 8,
   "metadata": {},
   "outputs": [
    {
     "data": {
      "text/html": [
       "<style>.container { width:90% !important; }</style>"
      ],
      "text/plain": [
       "<IPython.core.display.HTML object>"
      ]
     },
     "metadata": {},
     "output_type": "display_data"
    }
   ],
   "source": [
    "display(HTML(\"<style>.container { width:90% !important; }</style>\"))\n",
    "\n",
    "pd.set_option(\"display.float_format\", lambda x: \"%.2f\" % x)\n",
    "pd.set_option('display.max_colwidth', 500)\n",
    "pd.set_option(\"display.max_rows\", 1000)"
   ]
  },
  {
   "cell_type": "code",
   "execution_count": 27,
   "metadata": {},
   "outputs": [],
   "source": [
    "# load data from database\n",
    "engine = create_engine('sqlite:///disaster_response.db')\n",
    "# only load a sample of the data for faster processing (in this example)\n",
    "df = pd.read_sql_table(\"disaster_messages\", 'sqlite:///disaster_response.db').sample(frac=0.1, random_state=1)\n",
    "X = df[\"message\"].values\n",
    "Y = df.drop(labels=[\"id\", \"message\", \"original\", \"genre\"], axis=1).values\n",
    "features = df.drop(labels=[\"id\", \"message\", \"original\", \"genre\"], axis=1).columns"
   ]
  },
  {
   "cell_type": "markdown",
   "metadata": {},
   "source": [
    "### 2. Write a tokenization function to process your text data"
   ]
  },
  {
   "cell_type": "code",
   "execution_count": 10,
   "metadata": {},
   "outputs": [],
   "source": [
    "def tokenize(text):\n",
    "    \"\"\"\n",
    "    function: \n",
    "        separates messages into root form of lower case word tokens without punctuation or stopwords\n",
    "    args:\n",
    "        text(str): message to be later classified\n",
    "    returns:\n",
    "        lemmed(list of str): list of root forms of lower case word tokens without punctuation or stopwords of the message\n",
    "    \"\"\"\n",
    "    text = re.sub(r\"[^a-zA-Z0-9]\", \" \", text.lower())\n",
    "    words = word_tokenize(text)\n",
    "    words = [w for w in words if w not in stopwords.words(\"english\")]\n",
    "    \n",
    "    # lemmatization: Reduce words to their root form\n",
    "    lemmed = [WordNetLemmatizer().lemmatize(w) for w in words]\n",
    "    \n",
    "    return lemmed"
   ]
  },
  {
   "cell_type": "markdown",
   "metadata": {},
   "source": [
    "### 3. Build a machine learning pipeline\n",
    "This machine pipeline should take in the `message` column as input and output classification results on the other 36 categories in the dataset. You may find the [MultiOutputClassifier](http://scikit-learn.org/stable/modules/generated/sklearn.multioutput.MultiOutputClassifier.html) helpful for predicting multiple target variables."
   ]
  },
  {
   "cell_type": "markdown",
   "metadata": {},
   "source": [
    "see 5. Test your model"
   ]
  },
  {
   "cell_type": "markdown",
   "metadata": {},
   "source": [
    "### 4. Train pipeline\n",
    "- Split data into train and test sets\n",
    "- Train pipeline"
   ]
  },
  {
   "cell_type": "markdown",
   "metadata": {},
   "source": [
    "see 5. Test your model"
   ]
  },
  {
   "cell_type": "markdown",
   "metadata": {},
   "source": [
    "### 5. Test your model\n",
    "Report the f1 score, precision and recall for each output category of the dataset. You can do this by iterating through the columns and calling sklearn's `classification_report` on each."
   ]
  },
  {
   "cell_type": "code",
   "execution_count": 14,
   "metadata": {},
   "outputs": [],
   "source": [
    "def show_results(Y_test, Y_pred, features):\n",
    "    \"\"\"\n",
    "    function: prints out statistics of the results after fitting and predicting a model\n",
    "    args:\n",
    "        Y_test(numpy.ndarray): test data from train_test_split\n",
    "        Y_pred(numpy.ndarray): predicted data\n",
    "        features(list of str): list of column names of the features to be predicted\n",
    "    return:\n",
    "        df_res(DataFrame): DataFrame containing the classification report data for each feature\n",
    "    \"\"\"\n",
    "    \n",
    "    subset_accuracy = accuracy_score(Y_test, Y_pred) # subset_accuracy: the set of labels predicted for a sample must exactly match the corresponding set of labels in Y_test.\n",
    "    overall_accuracy = (Y_pred == Y_test).mean()\n",
    "    print(\"subset_accuracy: {:.3f}\\noverall_accuracy: {:.3f}\".format(subset_accuracy, overall_accuracy))\n",
    "\n",
    "    # create a results dataframe containing the classification reports for all columns (multiindexed)\n",
    "    df_res = pd.DataFrame()\n",
    "    i=0\n",
    "    for y_test, y_pred in zip(Y_test.transpose(), Y_pred.transpose()):\n",
    "        df_temp = pd.DataFrame.from_dict(classification_report(y_test, y_pred, output_dict=True, zero_division=1))\n",
    "        df_temp = pd.concat([df_temp], axis=1, keys=[features[i]]) # add column name as additional level\n",
    "        df_res = pd.concat([df_res, df_temp], axis=1)\n",
    "        i+=1\n",
    "\n",
    "    # overall mean classification report values:\n",
    "    display(df_res.transpose().mean())\n",
    "    # display(df_res.transpose())"
   ]
  },
  {
   "cell_type": "code",
   "execution_count": 11,
   "metadata": {
    "scrolled": false
   },
   "outputs": [
    {
     "name": "stdout",
     "output_type": "stream",
     "text": [
      "Starting Script Execution at 2021-09-26 19:28:05.530925\n",
      "MLPClassifier()\n",
      "subset_accuracy: 0.213\n",
      "overall_accuracy: 0.937\n"
     ]
    },
    {
     "data": {
      "text/plain": [
       "precision     0.81\n",
       "recall        0.73\n",
       "f1-score      0.74\n",
       "support     398.21\n",
       "dtype: float64"
      ]
     },
     "metadata": {},
     "output_type": "display_data"
    },
    {
     "name": "stdout",
     "output_type": "stream",
     "text": [
      "--- 1106s seconds to apply MLPClassifier() ---\n",
      "\n",
      "KNeighborsClassifier()\n",
      "subset_accuracy: 0.201\n",
      "overall_accuracy: 0.934\n"
     ]
    },
    {
     "data": {
      "text/plain": [
       "precision     0.85\n",
       "recall        0.72\n",
       "f1-score      0.72\n",
       "support     398.21\n",
       "dtype: float64"
      ]
     },
     "metadata": {},
     "output_type": "display_data"
    },
    {
     "name": "stdout",
     "output_type": "stream",
     "text": [
      "--- 23s seconds to apply KNeighborsClassifier() ---\n",
      "\n",
      "GaussianNB()\n",
      "subset_accuracy: 0.119\n",
      "overall_accuracy: 0.890\n"
     ]
    },
    {
     "data": {
      "text/plain": [
       "precision     0.69\n",
       "recall        0.68\n",
       "f1-score      0.68\n",
       "support     395.98\n",
       "dtype: float64"
      ]
     },
     "metadata": {},
     "output_type": "display_data"
    },
    {
     "name": "stdout",
     "output_type": "stream",
     "text": [
      "--- 26s seconds to apply GaussianNB() ---\n",
      "\n",
      "RandomForestClassifier()\n",
      "subset_accuracy: 0.232\n",
      "overall_accuracy: 0.941\n"
     ]
    },
    {
     "data": {
      "text/plain": [
       "precision     0.92\n",
       "recall        0.71\n",
       "f1-score      0.71\n",
       "support     395.99\n",
       "dtype: float64"
      ]
     },
     "metadata": {},
     "output_type": "display_data"
    },
    {
     "name": "stdout",
     "output_type": "stream",
     "text": [
      "--- 257s seconds to apply RandomForestClassifier() ---\n",
      "\n",
      "AdaBoostClassifier()\n",
      "subset_accuracy: 0.180\n",
      "overall_accuracy: 0.938\n"
     ]
    },
    {
     "data": {
      "text/plain": [
       "precision     0.80\n",
       "recall        0.75\n",
       "f1-score      0.76\n",
       "support     395.99\n",
       "dtype: float64"
      ]
     },
     "metadata": {},
     "output_type": "display_data"
    },
    {
     "name": "stdout",
     "output_type": "stream",
     "text": [
      "--- 493s seconds to apply AdaBoostClassifier() ---\n",
      "\n"
     ]
    }
   ],
   "source": [
    "list_classifier = [MLPClassifier(), KNeighborsClassifier(), GaussianNB(), RandomForestClassifier(), AdaBoostClassifier()]\n",
    "\n",
    "print(\"Starting Script Execution at {}\".format(datetime.now()))\n",
    "\n",
    "for clf in list_classifier:\n",
    "    start_time = time.time()\n",
    "    print(str(clf))\n",
    "    pipeline = Pipeline([\n",
    "            ('tfidfvect', TfidfVectorizer(tokenizer = tokenize)),\n",
    "            ('to_dense', FunctionTransformer(lambda x: x.todense(), accept_sparse=True)), # so that GaussianNB works\n",
    "            ('clf',  MultiOutputClassifier(clf))\n",
    "        ])\n",
    "\n",
    "    X_train, X_test, Y_train, Y_test = train_test_split(X, Y) \n",
    "\n",
    "    # train pipeline/classifier\n",
    "    pipeline.fit(X_train, Y_train)\n",
    "\n",
    "    # predict on test data\n",
    "    Y_pred = pipeline.predict(X_test)\n",
    "    \n",
    "    df_res = show_results(Y_test, Y_pred, features)\n",
    "    \n",
    "    print(\"--- {:.0f}s seconds to apply {} ---\\n\".format((time.time() - start_time), str(clf)))\n",
    "    \n",
    "print(\"End of ML Pipeline Execution at {}\".format(datetime.now()))"
   ]
  },
  {
   "cell_type": "markdown",
   "metadata": {},
   "source": [
    "### Results with 5% sample of the data\n",
    "Starting Script Execution at 2021-09-26 19:12:45.116248\n",
    "\n",
    "MLPClassifier()\n",
    "subset_accuracy: 0.183\n",
    "overall_accuracy: 0.932\n",
    "precision     0.88\n",
    "recall        0.72\n",
    "f1-score      0.73\n",
    "support     199.20\n",
    "dtype: float64\n",
    "--- 474s seconds to apply MLPClassifier() ---\n",
    "\n",
    "KNeighborsClassifier()\n",
    "subset_accuracy: 0.192\n",
    "overall_accuracy: 0.934\n",
    "precision     0.87\n",
    "recall        0.71\n",
    "f1-score      0.71\n",
    "support     198.09\n",
    "dtype: float64\n",
    "--- 484s seconds to apply KNeighborsClassifier() ---\n",
    "\n",
    "GaussianNB()\n",
    "subset_accuracy: 0.091\n",
    "overall_accuracy: 0.895\n",
    "precision     0.68\n",
    "recall        0.69\n",
    "f1-score      0.68\n",
    "support     198.08\n",
    "dtype: float64\n",
    "--- 495s seconds to apply GaussianNB() ---\n",
    "\n",
    "RandomForestClassifier()\n",
    "subset_accuracy: 0.146\n",
    "overall_accuracy: 0.927\n",
    "precision     0.92\n",
    "recall        0.69\n",
    "f1-score      0.69\n",
    "support     198.09\n",
    "dtype: float64\n",
    "--- 551s seconds to apply RandomForestClassifier() ---\n",
    "\n",
    "AdaBoostClassifier()\n",
    "subset_accuracy: 0.146\n",
    "overall_accuracy: 0.934\n",
    "precision     0.79\n",
    "recall        0.76\n",
    "f1-score      0.76\n",
    "support     199.20\n",
    "dtype: float64\n",
    "--- 691s seconds to apply AdaBoostClassifier() ---"
   ]
  },
  {
   "cell_type": "markdown",
   "metadata": {},
   "source": [
    "### Results with 10% sample of the data:\n",
    "Starting Script Execution at 2021-09-26 19:28:05.530925\n",
    "\n",
    "MLPClassifier()\n",
    "subset_accuracy: 0.213\n",
    "overall_accuracy: 0.937\n",
    "precision     0.81\n",
    "recall        0.73\n",
    "f1-score      0.74\n",
    "support     398.21\n",
    "dtype: float64\n",
    "--- 1106s seconds to apply MLPClassifier() ---\n",
    "\n",
    "KNeighborsClassifier()\n",
    "subset_accuracy: 0.201\n",
    "overall_accuracy: 0.934\n",
    "precision     0.85\n",
    "recall        0.72\n",
    "f1-score      0.72\n",
    "support     398.21\n",
    "dtype: float64\n",
    "--- 23s seconds to apply KNeighborsClassifier() ---\n",
    "\n",
    "GaussianNB()\n",
    "subset_accuracy: 0.119\n",
    "overall_accuracy: 0.890\n",
    "precision     0.69\n",
    "recall        0.68\n",
    "f1-score      0.68\n",
    "support     395.98\n",
    "dtype: float64\n",
    "--- 26s seconds to apply GaussianNB() ---\n",
    "\n",
    "RandomForestClassifier()\n",
    "subset_accuracy: 0.232\n",
    "overall_accuracy: 0.941\n",
    "precision     0.92\n",
    "recall        0.71\n",
    "f1-score      0.71\n",
    "support     395.99\n",
    "dtype: float64\n",
    "--- 257s seconds to apply RandomForestClassifier() ---\n",
    "\n",
    "AdaBoostClassifier()\n",
    "subset_accuracy: 0.180\n",
    "overall_accuracy: 0.938\n",
    "precision     0.80\n",
    "recall        0.75\n",
    "f1-score      0.76\n",
    "support     395.99\n",
    "dtype: float64\n",
    "--- 493s seconds to apply AdaBoostClassifier() ---"
   ]
  },
  {
   "cell_type": "markdown",
   "metadata": {},
   "source": [
    "### Conclusion / Choice of classifier\n",
    "- MLPClassifier needs way to much time for results close to the others\n",
    "- GaussianNB has the worst results\n",
    "- RandomForestClassifier and AdaBoostClassifier have good results but take very long (subset accuracy became much better with a bigger sample-size\n",
    "- KNeighborsClassifier is very fast and has as well very good results\n",
    "\n",
    "\n",
    "- KNeighborsClassifier will be used for further tuning"
   ]
  },
  {
   "cell_type": "markdown",
   "metadata": {},
   "source": [
    "### 6. Improve your model\n",
    "Use grid search to find better parameters. "
   ]
  },
  {
   "cell_type": "code",
   "execution_count": 28,
   "metadata": {},
   "outputs": [
    {
     "name": "stdout",
     "output_type": "stream",
     "text": [
      "KNeighborsClassifier()\n",
      "--- 17s seconds to apply KNeighborsClassifier() ---\n",
      "\n",
      "subset_accuracy: 0.226\n",
      "overall_accuracy: 0.938\n"
     ]
    },
    {
     "data": {
      "text/plain": [
       "precision     0.89\n",
       "recall        0.71\n",
       "f1-score      0.72\n",
       "support     395.99\n",
       "dtype: float64"
      ]
     },
     "metadata": {},
     "output_type": "display_data"
    }
   ],
   "source": [
    "clf = KNeighborsClassifier()\n",
    "\n",
    "start_time = time.time()\n",
    "print(str(clf))\n",
    "pipeline = Pipeline([\n",
    "        ('tfidfvect', TfidfVectorizer(tokenizer = tokenize)),\n",
    "        ('clf',  MultiOutputClassifier(clf))\n",
    "    ])\n",
    "\n",
    "X_train, X_test, Y_train, Y_test = train_test_split(X, Y) \n",
    "\n",
    "# train pipeline/classifier\n",
    "pipeline.fit(X_train, Y_train)\n",
    "\n",
    "# predict on test data\n",
    "Y_pred = pipeline.predict(X_test)\n",
    "\n",
    "print(\"--- {:.0f}s seconds to apply {} ---\\n\".format((time.time() - start_time), str(clf)))\n",
    "\n",
    "df_res = show_results(Y_test, Y_pred, features)"
   ]
  },
  {
   "cell_type": "code",
   "execution_count": 18,
   "metadata": {},
   "outputs": [
    {
     "data": {
      "text/plain": [
       "{'memory': None,\n",
       " 'steps': [('tfidfvect',\n",
       "   TfidfVectorizer(tokenizer=<function tokenize at 0x0000023128AFE550>)),\n",
       "  ('clf', MultiOutputClassifier(estimator=KNeighborsClassifier()))],\n",
       " 'verbose': False,\n",
       " 'tfidfvect': TfidfVectorizer(tokenizer=<function tokenize at 0x0000023128AFE550>),\n",
       " 'clf': MultiOutputClassifier(estimator=KNeighborsClassifier()),\n",
       " 'tfidfvect__analyzer': 'word',\n",
       " 'tfidfvect__binary': False,\n",
       " 'tfidfvect__decode_error': 'strict',\n",
       " 'tfidfvect__dtype': numpy.float64,\n",
       " 'tfidfvect__encoding': 'utf-8',\n",
       " 'tfidfvect__input': 'content',\n",
       " 'tfidfvect__lowercase': True,\n",
       " 'tfidfvect__max_df': 1.0,\n",
       " 'tfidfvect__max_features': None,\n",
       " 'tfidfvect__min_df': 1,\n",
       " 'tfidfvect__ngram_range': (1, 1),\n",
       " 'tfidfvect__norm': 'l2',\n",
       " 'tfidfvect__preprocessor': None,\n",
       " 'tfidfvect__smooth_idf': True,\n",
       " 'tfidfvect__stop_words': None,\n",
       " 'tfidfvect__strip_accents': None,\n",
       " 'tfidfvect__sublinear_tf': False,\n",
       " 'tfidfvect__token_pattern': '(?u)\\\\b\\\\w\\\\w+\\\\b',\n",
       " 'tfidfvect__tokenizer': <function __main__.tokenize(text)>,\n",
       " 'tfidfvect__use_idf': True,\n",
       " 'tfidfvect__vocabulary': None,\n",
       " 'clf__estimator__algorithm': 'auto',\n",
       " 'clf__estimator__leaf_size': 30,\n",
       " 'clf__estimator__metric': 'minkowski',\n",
       " 'clf__estimator__metric_params': None,\n",
       " 'clf__estimator__n_jobs': None,\n",
       " 'clf__estimator__n_neighbors': 5,\n",
       " 'clf__estimator__p': 2,\n",
       " 'clf__estimator__weights': 'uniform',\n",
       " 'clf__estimator': KNeighborsClassifier(),\n",
       " 'clf__n_jobs': None}"
      ]
     },
     "metadata": {},
     "output_type": "display_data"
    }
   ],
   "source": [
    "display(pipeline.get_params())\n",
    "\n",
    "params_pick = {\n",
    "        'tfidfvect__use_idf': (True, False),\n",
    "        'clf__estimator__n_neighbors': [3, 5, 10]\n",
    "}\n",
    "\n",
    "cv = GridSearchCV(pipeline, param_grid = params_pick)"
   ]
  },
  {
   "cell_type": "markdown",
   "metadata": {},
   "source": [
    "### 7. Test your model\n",
    "Show the accuracy, precision, and recall of the tuned model.  \n",
    "\n",
    "Since this project focuses on code quality, process, and  pipelines, there is no minimum performance metric needed to pass. However, make sure to fine tune your models for accuracy, precision and recall to make your project stand out - especially for your portfolio!"
   ]
  },
  {
   "cell_type": "code",
   "execution_count": 29,
   "metadata": {},
   "outputs": [
    {
     "name": "stdout",
     "output_type": "stream",
     "text": [
      "subset_accuracy: 0.264\n",
      "overall_accuracy: 0.942\n"
     ]
    },
    {
     "data": {
      "text/plain": [
       "precision     0.90\n",
       "recall        0.72\n",
       "f1-score      0.72\n",
       "support     395.99\n",
       "dtype: float64"
      ]
     },
     "metadata": {},
     "output_type": "display_data"
    }
   ],
   "source": [
    "cv.fit(X_train, Y_train)\n",
    "Y_pred = cv.predict(X_test)\n",
    "df_res = show_results(Y_test, Y_pred, features)"
   ]
  },
  {
   "cell_type": "markdown",
   "metadata": {},
   "source": [
    "### Results after GridSearchCV:\n",
    "subset_accuracy: 0.277\n",
    "overall_accuracy: 0.943\n",
    "precision     0.93\n",
    "recall        0.72\n",
    "f1-score      0.72\n",
    "support     395.99"
   ]
  },
  {
   "cell_type": "markdown",
   "metadata": {},
   "source": [
    "### 8. Try improving your model further. Here are a few ideas:\n",
    "* try other machine learning algorithms\n",
    "* add other features besides the TF-IDF"
   ]
  },
  {
   "cell_type": "markdown",
   "metadata": {},
   "source": [
    "-> see tests above"
   ]
  },
  {
   "cell_type": "markdown",
   "metadata": {},
   "source": [
    "### 9. Export your model as a pickle file"
   ]
  },
  {
   "cell_type": "code",
   "execution_count": 31,
   "metadata": {},
   "outputs": [],
   "source": [
    "# save model as pickle file\n",
    "with open ('classifier.pkl', 'wb') as f:\n",
    "    pickle.dump(cv, f)"
   ]
  },
  {
   "cell_type": "markdown",
   "metadata": {},
   "source": [
    "### 10. Use this notebook to complete `train.py`\n",
    "Use the template file attached in the Resources folder to write a script that runs the steps above to create a database and export a model based on a new dataset specified by the user."
   ]
  },
  {
   "cell_type": "code",
   "execution_count": null,
   "metadata": {},
   "outputs": [],
   "source": []
  }
 ],
 "metadata": {
  "hide_input": false,
  "kernelspec": {
   "display_name": "Python 3",
   "language": "python",
   "name": "python3"
  },
  "language_info": {
   "codemirror_mode": {
    "name": "ipython",
    "version": 3
   },
   "file_extension": ".py",
   "mimetype": "text/x-python",
   "name": "python",
   "nbconvert_exporter": "python",
   "pygments_lexer": "ipython3",
   "version": "3.8.0"
  },
  "toc": {
   "base_numbering": 1,
   "nav_menu": {},
   "number_sections": false,
   "sideBar": true,
   "skip_h1_title": true,
   "title_cell": "Table of Contents",
   "title_sidebar": "Contents",
   "toc_cell": true,
   "toc_position": {},
   "toc_section_display": true,
   "toc_window_display": false
  },
  "varInspector": {
   "cols": {
    "lenName": 16,
    "lenType": 16,
    "lenVar": 40
   },
   "kernels_config": {
    "python": {
     "delete_cmd_postfix": "",
     "delete_cmd_prefix": "del ",
     "library": "var_list.py",
     "varRefreshCmd": "print(var_dic_list())"
    },
    "r": {
     "delete_cmd_postfix": ") ",
     "delete_cmd_prefix": "rm(",
     "library": "var_list.r",
     "varRefreshCmd": "cat(var_dic_list()) "
    }
   },
   "types_to_exclude": [
    "module",
    "function",
    "builtin_function_or_method",
    "instance",
    "_Feature"
   ],
   "window_display": false
  }
 },
 "nbformat": 4,
 "nbformat_minor": 2
}
