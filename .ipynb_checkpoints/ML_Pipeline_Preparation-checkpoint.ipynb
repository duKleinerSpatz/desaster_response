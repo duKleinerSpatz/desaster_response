{
 "cells": [
  {
   "cell_type": "markdown",
   "metadata": {
    "toc": true
   },
   "source": [
    "<h1>Table of Contents<span class=\"tocSkip\"></span></h1>\n",
    "<div class=\"toc\"><ul class=\"toc-item\"><li><span><a href=\"#1.-Import-libraries-and-load-data-from-database.\" data-toc-modified-id=\"1.-Import-libraries-and-load-data-from-database.-1\">1. Import libraries and load data from database.</a></span></li><li><span><a href=\"#2.-Write-a-tokenization-function-to-process-your-text-data\" data-toc-modified-id=\"2.-Write-a-tokenization-function-to-process-your-text-data-2\">2. Write a tokenization function to process your text data</a></span></li><li><span><a href=\"#3.-Build-a-machine-learning-pipeline\" data-toc-modified-id=\"3.-Build-a-machine-learning-pipeline-3\">3. Build a machine learning pipeline</a></span></li><li><span><a href=\"#4.-Train-pipeline\" data-toc-modified-id=\"4.-Train-pipeline-4\">4. Train pipeline</a></span></li><li><span><a href=\"#5.-Test-your-model\" data-toc-modified-id=\"5.-Test-your-model-5\">5. Test your model</a></span></li><li><span><a href=\"#Results-with-5%-sample-of-the-data\" data-toc-modified-id=\"Results-with-5%-sample-of-the-data-6\">Results with 5% sample of the data</a></span></li><li><span><a href=\"#Results-with-10%-sample-of-the-data:\" data-toc-modified-id=\"Results-with-10%-sample-of-the-data:-7\">Results with 10% sample of the data:</a></span></li><li><span><a href=\"#Conclusion-/-Choice-of-classifier\" data-toc-modified-id=\"Conclusion-/-Choice-of-classifier-8\">Conclusion / Choice of classifier</a></span></li><li><span><a href=\"#6.-Improve-your-model\" data-toc-modified-id=\"6.-Improve-your-model-9\">6. Improve your model</a></span></li><li><span><a href=\"#7.-Test-your-model\" data-toc-modified-id=\"7.-Test-your-model-10\">7. Test your model</a></span></li><li><span><a href=\"#Results-after-GridSearchCV:\" data-toc-modified-id=\"Results-after-GridSearchCV:-11\">Results after GridSearchCV:</a></span></li><li><span><a href=\"#8.-Try-improving-your-model-further.-Here-are-a-few-ideas:\" data-toc-modified-id=\"8.-Try-improving-your-model-further.-Here-are-a-few-ideas:-12\">8. Try improving your model further. Here are a few ideas:</a></span></li><li><span><a href=\"#9.-Export-your-model-as-a-pickle-file\" data-toc-modified-id=\"9.-Export-your-model-as-a-pickle-file-13\">9. Export your model as a pickle file</a></span></li><li><span><a href=\"#10.-Use-this-notebook-to-complete-train.py\" data-toc-modified-id=\"10.-Use-this-notebook-to-complete-train.py-14\">10. Use this notebook to complete <code>train.py</code></a></span></li></ul></div>"
   ]
  },
  {
   "cell_type": "markdown",
   "metadata": {},
   "source": [
    "# ML Pipeline Preparation\n",
    "Follow the instructions below to help you create your ML pipeline.\n",
    "### 1. Import libraries and load data from database.\n",
    "- Import Python libraries\n",
    "- Load dataset from database with [`read_sql_table`](https://pandas.pydata.org/pandas-docs/stable/generated/pandas.read_sql_table.html)\n",
    "- Define feature and target variables X and Y"
   ]
  },
  {
   "cell_type": "code",
   "execution_count": 1,
   "metadata": {},
   "outputs": [
    {
     "name": "stderr",
     "output_type": "stream",
     "text": [
      "[nltk_data] Downloading package wordnet to\n",
      "[nltk_data]     C:\\Users\\thoma\\AppData\\Roaming\\nltk_data...\n",
      "[nltk_data]   Package wordnet is already up-to-date!\n",
      "[nltk_data] Downloading package punkt to\n",
      "[nltk_data]     C:\\Users\\thoma\\AppData\\Roaming\\nltk_data...\n",
      "[nltk_data]   Package punkt is already up-to-date!\n"
     ]
    },
    {
     "data": {
      "text/plain": [
       "True"
      ]
     },
     "execution_count": 1,
     "metadata": {},
     "output_type": "execute_result"
    }
   ],
   "source": [
    "# import libraries\n",
    "import pandas as pd\n",
    "import time\n",
    "from datetime import datetime\n",
    "from IPython.core.display import display, HTML\n",
    "from sqlalchemy import create_engine\n",
    "import pickle\n",
    "import re\n",
    "import nltk\n",
    "from nltk.tokenize import word_tokenize\n",
    "from nltk.tokenize import sent_tokenize\n",
    "from nltk.corpus import stopwords\n",
    "from nltk.stem.wordnet import WordNetLemmatizer\n",
    "from sklearn.pipeline import Pipeline\n",
    "from sklearn.feature_extraction.text import TfidfVectorizer\n",
    "from sklearn.preprocessing import FunctionTransformer\n",
    "from sklearn.multioutput import MultiOutputClassifier\n",
    "from sklearn.ensemble import RandomForestClassifier, AdaBoostClassifier\n",
    "from sklearn.naive_bayes import GaussianNB\n",
    "from sklearn.neural_network import MLPClassifier\n",
    "from sklearn.neighbors import KNeighborsClassifier\n",
    "from sklearn.model_selection import train_test_split,  GridSearchCV\n",
    "from sklearn.metrics import classification_report, accuracy_score, f1_score, recall_score, precision_score\n",
    "\n",
    "nltk.download([\"wordnet\", \"punkt\"])"
   ]
  },
  {
   "cell_type": "code",
   "execution_count": 2,
   "metadata": {},
   "outputs": [
    {
     "data": {
      "text/html": [
       "<style>.container { width:90% !important; }</style>"
      ],
      "text/plain": [
       "<IPython.core.display.HTML object>"
      ]
     },
     "metadata": {},
     "output_type": "display_data"
    }
   ],
   "source": [
    "display(HTML(\"<style>.container { width:90% !important; }</style>\"))\n",
    "\n",
    "pd.set_option(\"display.float_format\", lambda x: \"%.2f\" % x)\n",
    "pd.set_option('display.max_colwidth', 500)\n",
    "pd.set_option(\"display.max_rows\", 1000)"
   ]
  },
  {
   "cell_type": "code",
   "execution_count": 10,
   "metadata": {},
   "outputs": [],
   "source": [
    "# load data from database\n",
    "engine = create_engine('sqlite:///disaster_response.db')\n",
    "# only load a sample of the data for faster processing (in this example)\n",
    "df = pd.read_sql_table(\"disaster_messages\", 'sqlite:///disaster_response.db')  # .sample(frac=0.1, random_state=1)\n",
    "X = df[\"message\"].values\n",
    "Y = df.drop(labels=[\"id\", \"message\", \"original\", \"genre\"], axis=1).values\n",
    "features = df.drop(labels=[\"id\", \"message\", \"original\", \"genre\"], axis=1).columns"
   ]
  },
  {
   "cell_type": "code",
   "execution_count": 29,
   "metadata": {},
   "outputs": [
    {
     "data": {
      "application/vnd.plotly.v1+json": {
       "config": {
        "plotlyServerURL": "https://plot.ly"
       },
       "data": [
        {
         "type": "bar",
         "x": [
          "related",
          "request",
          "offer",
          "aid_related",
          "medical_help",
          "medical_products",
          "search_and_rescue",
          "security",
          "military",
          "child_alone",
          "water",
          "food",
          "shelter",
          "clothing",
          "money",
          "missing_people",
          "refugees",
          "death",
          "other_aid",
          "infrastructure_related",
          "transport",
          "buildings",
          "electricity",
          "tools",
          "hospitals",
          "shops",
          "aid_centers",
          "other_infrastructure",
          "weather_related",
          "floods",
          "storm",
          "fire",
          "earthquake",
          "cold",
          "other_weather",
          "direct_report"
         ],
         "y": [
          20093,
          4474,
          118,
          10860,
          2084,
          1313,
          724,
          471,
          860,
          0,
          1672,
          2923,
          2314,
          405,
          604,
          298,
          875,
          1194,
          3446,
          1705,
          1201,
          1333,
          532,
          159,
          283,
          120,
          309,
          1151,
          7297,
          2155,
          2443,
          282,
          2455,
          530,
          1376,
          5075
         ]
        }
       ],
       "layout": {
        "template": {
         "data": {
          "bar": [
           {
            "error_x": {
             "color": "#2a3f5f"
            },
            "error_y": {
             "color": "#2a3f5f"
            },
            "marker": {
             "line": {
              "color": "#E5ECF6",
              "width": 0.5
             }
            },
            "type": "bar"
           }
          ],
          "barpolar": [
           {
            "marker": {
             "line": {
              "color": "#E5ECF6",
              "width": 0.5
             }
            },
            "type": "barpolar"
           }
          ],
          "carpet": [
           {
            "aaxis": {
             "endlinecolor": "#2a3f5f",
             "gridcolor": "white",
             "linecolor": "white",
             "minorgridcolor": "white",
             "startlinecolor": "#2a3f5f"
            },
            "baxis": {
             "endlinecolor": "#2a3f5f",
             "gridcolor": "white",
             "linecolor": "white",
             "minorgridcolor": "white",
             "startlinecolor": "#2a3f5f"
            },
            "type": "carpet"
           }
          ],
          "choropleth": [
           {
            "colorbar": {
             "outlinewidth": 0,
             "ticks": ""
            },
            "type": "choropleth"
           }
          ],
          "contour": [
           {
            "colorbar": {
             "outlinewidth": 0,
             "ticks": ""
            },
            "colorscale": [
             [
              0,
              "#0d0887"
             ],
             [
              0.1111111111111111,
              "#46039f"
             ],
             [
              0.2222222222222222,
              "#7201a8"
             ],
             [
              0.3333333333333333,
              "#9c179e"
             ],
             [
              0.4444444444444444,
              "#bd3786"
             ],
             [
              0.5555555555555556,
              "#d8576b"
             ],
             [
              0.6666666666666666,
              "#ed7953"
             ],
             [
              0.7777777777777778,
              "#fb9f3a"
             ],
             [
              0.8888888888888888,
              "#fdca26"
             ],
             [
              1,
              "#f0f921"
             ]
            ],
            "type": "contour"
           }
          ],
          "contourcarpet": [
           {
            "colorbar": {
             "outlinewidth": 0,
             "ticks": ""
            },
            "type": "contourcarpet"
           }
          ],
          "heatmap": [
           {
            "colorbar": {
             "outlinewidth": 0,
             "ticks": ""
            },
            "colorscale": [
             [
              0,
              "#0d0887"
             ],
             [
              0.1111111111111111,
              "#46039f"
             ],
             [
              0.2222222222222222,
              "#7201a8"
             ],
             [
              0.3333333333333333,
              "#9c179e"
             ],
             [
              0.4444444444444444,
              "#bd3786"
             ],
             [
              0.5555555555555556,
              "#d8576b"
             ],
             [
              0.6666666666666666,
              "#ed7953"
             ],
             [
              0.7777777777777778,
              "#fb9f3a"
             ],
             [
              0.8888888888888888,
              "#fdca26"
             ],
             [
              1,
              "#f0f921"
             ]
            ],
            "type": "heatmap"
           }
          ],
          "heatmapgl": [
           {
            "colorbar": {
             "outlinewidth": 0,
             "ticks": ""
            },
            "colorscale": [
             [
              0,
              "#0d0887"
             ],
             [
              0.1111111111111111,
              "#46039f"
             ],
             [
              0.2222222222222222,
              "#7201a8"
             ],
             [
              0.3333333333333333,
              "#9c179e"
             ],
             [
              0.4444444444444444,
              "#bd3786"
             ],
             [
              0.5555555555555556,
              "#d8576b"
             ],
             [
              0.6666666666666666,
              "#ed7953"
             ],
             [
              0.7777777777777778,
              "#fb9f3a"
             ],
             [
              0.8888888888888888,
              "#fdca26"
             ],
             [
              1,
              "#f0f921"
             ]
            ],
            "type": "heatmapgl"
           }
          ],
          "histogram": [
           {
            "marker": {
             "colorbar": {
              "outlinewidth": 0,
              "ticks": ""
             }
            },
            "type": "histogram"
           }
          ],
          "histogram2d": [
           {
            "colorbar": {
             "outlinewidth": 0,
             "ticks": ""
            },
            "colorscale": [
             [
              0,
              "#0d0887"
             ],
             [
              0.1111111111111111,
              "#46039f"
             ],
             [
              0.2222222222222222,
              "#7201a8"
             ],
             [
              0.3333333333333333,
              "#9c179e"
             ],
             [
              0.4444444444444444,
              "#bd3786"
             ],
             [
              0.5555555555555556,
              "#d8576b"
             ],
             [
              0.6666666666666666,
              "#ed7953"
             ],
             [
              0.7777777777777778,
              "#fb9f3a"
             ],
             [
              0.8888888888888888,
              "#fdca26"
             ],
             [
              1,
              "#f0f921"
             ]
            ],
            "type": "histogram2d"
           }
          ],
          "histogram2dcontour": [
           {
            "colorbar": {
             "outlinewidth": 0,
             "ticks": ""
            },
            "colorscale": [
             [
              0,
              "#0d0887"
             ],
             [
              0.1111111111111111,
              "#46039f"
             ],
             [
              0.2222222222222222,
              "#7201a8"
             ],
             [
              0.3333333333333333,
              "#9c179e"
             ],
             [
              0.4444444444444444,
              "#bd3786"
             ],
             [
              0.5555555555555556,
              "#d8576b"
             ],
             [
              0.6666666666666666,
              "#ed7953"
             ],
             [
              0.7777777777777778,
              "#fb9f3a"
             ],
             [
              0.8888888888888888,
              "#fdca26"
             ],
             [
              1,
              "#f0f921"
             ]
            ],
            "type": "histogram2dcontour"
           }
          ],
          "mesh3d": [
           {
            "colorbar": {
             "outlinewidth": 0,
             "ticks": ""
            },
            "type": "mesh3d"
           }
          ],
          "parcoords": [
           {
            "line": {
             "colorbar": {
              "outlinewidth": 0,
              "ticks": ""
             }
            },
            "type": "parcoords"
           }
          ],
          "pie": [
           {
            "automargin": true,
            "type": "pie"
           }
          ],
          "scatter": [
           {
            "marker": {
             "colorbar": {
              "outlinewidth": 0,
              "ticks": ""
             }
            },
            "type": "scatter"
           }
          ],
          "scatter3d": [
           {
            "line": {
             "colorbar": {
              "outlinewidth": 0,
              "ticks": ""
             }
            },
            "marker": {
             "colorbar": {
              "outlinewidth": 0,
              "ticks": ""
             }
            },
            "type": "scatter3d"
           }
          ],
          "scattercarpet": [
           {
            "marker": {
             "colorbar": {
              "outlinewidth": 0,
              "ticks": ""
             }
            },
            "type": "scattercarpet"
           }
          ],
          "scattergeo": [
           {
            "marker": {
             "colorbar": {
              "outlinewidth": 0,
              "ticks": ""
             }
            },
            "type": "scattergeo"
           }
          ],
          "scattergl": [
           {
            "marker": {
             "colorbar": {
              "outlinewidth": 0,
              "ticks": ""
             }
            },
            "type": "scattergl"
           }
          ],
          "scattermapbox": [
           {
            "marker": {
             "colorbar": {
              "outlinewidth": 0,
              "ticks": ""
             }
            },
            "type": "scattermapbox"
           }
          ],
          "scatterpolar": [
           {
            "marker": {
             "colorbar": {
              "outlinewidth": 0,
              "ticks": ""
             }
            },
            "type": "scatterpolar"
           }
          ],
          "scatterpolargl": [
           {
            "marker": {
             "colorbar": {
              "outlinewidth": 0,
              "ticks": ""
             }
            },
            "type": "scatterpolargl"
           }
          ],
          "scatterternary": [
           {
            "marker": {
             "colorbar": {
              "outlinewidth": 0,
              "ticks": ""
             }
            },
            "type": "scatterternary"
           }
          ],
          "surface": [
           {
            "colorbar": {
             "outlinewidth": 0,
             "ticks": ""
            },
            "colorscale": [
             [
              0,
              "#0d0887"
             ],
             [
              0.1111111111111111,
              "#46039f"
             ],
             [
              0.2222222222222222,
              "#7201a8"
             ],
             [
              0.3333333333333333,
              "#9c179e"
             ],
             [
              0.4444444444444444,
              "#bd3786"
             ],
             [
              0.5555555555555556,
              "#d8576b"
             ],
             [
              0.6666666666666666,
              "#ed7953"
             ],
             [
              0.7777777777777778,
              "#fb9f3a"
             ],
             [
              0.8888888888888888,
              "#fdca26"
             ],
             [
              1,
              "#f0f921"
             ]
            ],
            "type": "surface"
           }
          ],
          "table": [
           {
            "cells": {
             "fill": {
              "color": "#EBF0F8"
             },
             "line": {
              "color": "white"
             }
            },
            "header": {
             "fill": {
              "color": "#C8D4E3"
             },
             "line": {
              "color": "white"
             }
            },
            "type": "table"
           }
          ]
         },
         "layout": {
          "annotationdefaults": {
           "arrowcolor": "#2a3f5f",
           "arrowhead": 0,
           "arrowwidth": 1
          },
          "autotypenumbers": "strict",
          "coloraxis": {
           "colorbar": {
            "outlinewidth": 0,
            "ticks": ""
           }
          },
          "colorscale": {
           "diverging": [
            [
             0,
             "#8e0152"
            ],
            [
             0.1,
             "#c51b7d"
            ],
            [
             0.2,
             "#de77ae"
            ],
            [
             0.3,
             "#f1b6da"
            ],
            [
             0.4,
             "#fde0ef"
            ],
            [
             0.5,
             "#f7f7f7"
            ],
            [
             0.6,
             "#e6f5d0"
            ],
            [
             0.7,
             "#b8e186"
            ],
            [
             0.8,
             "#7fbc41"
            ],
            [
             0.9,
             "#4d9221"
            ],
            [
             1,
             "#276419"
            ]
           ],
           "sequential": [
            [
             0,
             "#0d0887"
            ],
            [
             0.1111111111111111,
             "#46039f"
            ],
            [
             0.2222222222222222,
             "#7201a8"
            ],
            [
             0.3333333333333333,
             "#9c179e"
            ],
            [
             0.4444444444444444,
             "#bd3786"
            ],
            [
             0.5555555555555556,
             "#d8576b"
            ],
            [
             0.6666666666666666,
             "#ed7953"
            ],
            [
             0.7777777777777778,
             "#fb9f3a"
            ],
            [
             0.8888888888888888,
             "#fdca26"
            ],
            [
             1,
             "#f0f921"
            ]
           ],
           "sequentialminus": [
            [
             0,
             "#0d0887"
            ],
            [
             0.1111111111111111,
             "#46039f"
            ],
            [
             0.2222222222222222,
             "#7201a8"
            ],
            [
             0.3333333333333333,
             "#9c179e"
            ],
            [
             0.4444444444444444,
             "#bd3786"
            ],
            [
             0.5555555555555556,
             "#d8576b"
            ],
            [
             0.6666666666666666,
             "#ed7953"
            ],
            [
             0.7777777777777778,
             "#fb9f3a"
            ],
            [
             0.8888888888888888,
             "#fdca26"
            ],
            [
             1,
             "#f0f921"
            ]
           ]
          },
          "colorway": [
           "#636efa",
           "#EF553B",
           "#00cc96",
           "#ab63fa",
           "#FFA15A",
           "#19d3f3",
           "#FF6692",
           "#B6E880",
           "#FF97FF",
           "#FECB52"
          ],
          "font": {
           "color": "#2a3f5f"
          },
          "geo": {
           "bgcolor": "white",
           "lakecolor": "white",
           "landcolor": "#E5ECF6",
           "showlakes": true,
           "showland": true,
           "subunitcolor": "white"
          },
          "hoverlabel": {
           "align": "left"
          },
          "hovermode": "closest",
          "mapbox": {
           "style": "light"
          },
          "paper_bgcolor": "white",
          "plot_bgcolor": "#E5ECF6",
          "polar": {
           "angularaxis": {
            "gridcolor": "white",
            "linecolor": "white",
            "ticks": ""
           },
           "bgcolor": "#E5ECF6",
           "radialaxis": {
            "gridcolor": "white",
            "linecolor": "white",
            "ticks": ""
           }
          },
          "scene": {
           "xaxis": {
            "backgroundcolor": "#E5ECF6",
            "gridcolor": "white",
            "gridwidth": 2,
            "linecolor": "white",
            "showbackground": true,
            "ticks": "",
            "zerolinecolor": "white"
           },
           "yaxis": {
            "backgroundcolor": "#E5ECF6",
            "gridcolor": "white",
            "gridwidth": 2,
            "linecolor": "white",
            "showbackground": true,
            "ticks": "",
            "zerolinecolor": "white"
           },
           "zaxis": {
            "backgroundcolor": "#E5ECF6",
            "gridcolor": "white",
            "gridwidth": 2,
            "linecolor": "white",
            "showbackground": true,
            "ticks": "",
            "zerolinecolor": "white"
           }
          },
          "shapedefaults": {
           "line": {
            "color": "#2a3f5f"
           }
          },
          "ternary": {
           "aaxis": {
            "gridcolor": "white",
            "linecolor": "white",
            "ticks": ""
           },
           "baxis": {
            "gridcolor": "white",
            "linecolor": "white",
            "ticks": ""
           },
           "bgcolor": "#E5ECF6",
           "caxis": {
            "gridcolor": "white",
            "linecolor": "white",
            "ticks": ""
           }
          },
          "title": {
           "x": 0.05
          },
          "xaxis": {
           "automargin": true,
           "gridcolor": "white",
           "linecolor": "white",
           "ticks": "",
           "title": {
            "standoff": 15
           },
           "zerolinecolor": "white",
           "zerolinewidth": 2
          },
          "yaxis": {
           "automargin": true,
           "gridcolor": "white",
           "linecolor": "white",
           "ticks": "",
           "title": {
            "standoff": 15
           },
           "zerolinecolor": "white",
           "zerolinewidth": 2
          }
         }
        },
        "title": {
         "text": "Category counts"
        }
       }
      },
      "text/html": [
       "<div>                            <div id=\"a8b5115f-8085-4d49-a2b1-8f825573f201\" class=\"plotly-graph-div\" style=\"height:525px; width:100%;\"></div>            <script type=\"text/javascript\">                require([\"plotly\"], function(Plotly) {                    window.PLOTLYENV=window.PLOTLYENV || {};                                    if (document.getElementById(\"a8b5115f-8085-4d49-a2b1-8f825573f201\")) {                    Plotly.newPlot(                        \"a8b5115f-8085-4d49-a2b1-8f825573f201\",                        [{\"type\": \"bar\", \"x\": [\"related\", \"request\", \"offer\", \"aid_related\", \"medical_help\", \"medical_products\", \"search_and_rescue\", \"security\", \"military\", \"child_alone\", \"water\", \"food\", \"shelter\", \"clothing\", \"money\", \"missing_people\", \"refugees\", \"death\", \"other_aid\", \"infrastructure_related\", \"transport\", \"buildings\", \"electricity\", \"tools\", \"hospitals\", \"shops\", \"aid_centers\", \"other_infrastructure\", \"weather_related\", \"floods\", \"storm\", \"fire\", \"earthquake\", \"cold\", \"other_weather\", \"direct_report\"], \"y\": [20093, 4474, 118, 10860, 2084, 1313, 724, 471, 860, 0, 1672, 2923, 2314, 405, 604, 298, 875, 1194, 3446, 1705, 1201, 1333, 532, 159, 283, 120, 309, 1151, 7297, 2155, 2443, 282, 2455, 530, 1376, 5075]}],                        {\"template\": {\"data\": {\"bar\": [{\"error_x\": {\"color\": \"#2a3f5f\"}, \"error_y\": {\"color\": \"#2a3f5f\"}, \"marker\": {\"line\": {\"color\": \"#E5ECF6\", \"width\": 0.5}}, \"type\": \"bar\"}], \"barpolar\": [{\"marker\": {\"line\": {\"color\": \"#E5ECF6\", \"width\": 0.5}}, \"type\": \"barpolar\"}], \"carpet\": [{\"aaxis\": {\"endlinecolor\": \"#2a3f5f\", \"gridcolor\": \"white\", \"linecolor\": \"white\", \"minorgridcolor\": \"white\", \"startlinecolor\": \"#2a3f5f\"}, \"baxis\": {\"endlinecolor\": \"#2a3f5f\", \"gridcolor\": \"white\", \"linecolor\": \"white\", \"minorgridcolor\": \"white\", \"startlinecolor\": \"#2a3f5f\"}, \"type\": \"carpet\"}], \"choropleth\": [{\"colorbar\": {\"outlinewidth\": 0, \"ticks\": \"\"}, \"type\": \"choropleth\"}], \"contour\": [{\"colorbar\": {\"outlinewidth\": 0, \"ticks\": \"\"}, \"colorscale\": [[0.0, \"#0d0887\"], [0.1111111111111111, \"#46039f\"], [0.2222222222222222, \"#7201a8\"], [0.3333333333333333, \"#9c179e\"], [0.4444444444444444, \"#bd3786\"], [0.5555555555555556, \"#d8576b\"], [0.6666666666666666, \"#ed7953\"], [0.7777777777777778, \"#fb9f3a\"], [0.8888888888888888, \"#fdca26\"], [1.0, \"#f0f921\"]], \"type\": \"contour\"}], \"contourcarpet\": [{\"colorbar\": {\"outlinewidth\": 0, \"ticks\": \"\"}, \"type\": \"contourcarpet\"}], \"heatmap\": [{\"colorbar\": {\"outlinewidth\": 0, \"ticks\": \"\"}, \"colorscale\": [[0.0, \"#0d0887\"], [0.1111111111111111, \"#46039f\"], [0.2222222222222222, \"#7201a8\"], [0.3333333333333333, \"#9c179e\"], [0.4444444444444444, \"#bd3786\"], [0.5555555555555556, \"#d8576b\"], [0.6666666666666666, \"#ed7953\"], [0.7777777777777778, \"#fb9f3a\"], [0.8888888888888888, \"#fdca26\"], [1.0, \"#f0f921\"]], \"type\": \"heatmap\"}], \"heatmapgl\": [{\"colorbar\": {\"outlinewidth\": 0, \"ticks\": \"\"}, \"colorscale\": [[0.0, \"#0d0887\"], [0.1111111111111111, \"#46039f\"], [0.2222222222222222, \"#7201a8\"], [0.3333333333333333, \"#9c179e\"], [0.4444444444444444, \"#bd3786\"], [0.5555555555555556, \"#d8576b\"], [0.6666666666666666, \"#ed7953\"], [0.7777777777777778, \"#fb9f3a\"], [0.8888888888888888, \"#fdca26\"], [1.0, \"#f0f921\"]], \"type\": \"heatmapgl\"}], \"histogram\": [{\"marker\": {\"colorbar\": {\"outlinewidth\": 0, \"ticks\": \"\"}}, \"type\": \"histogram\"}], \"histogram2d\": [{\"colorbar\": {\"outlinewidth\": 0, \"ticks\": \"\"}, \"colorscale\": [[0.0, \"#0d0887\"], [0.1111111111111111, \"#46039f\"], [0.2222222222222222, \"#7201a8\"], [0.3333333333333333, \"#9c179e\"], [0.4444444444444444, \"#bd3786\"], [0.5555555555555556, \"#d8576b\"], [0.6666666666666666, \"#ed7953\"], [0.7777777777777778, \"#fb9f3a\"], [0.8888888888888888, \"#fdca26\"], [1.0, \"#f0f921\"]], \"type\": \"histogram2d\"}], \"histogram2dcontour\": [{\"colorbar\": {\"outlinewidth\": 0, \"ticks\": \"\"}, \"colorscale\": [[0.0, \"#0d0887\"], [0.1111111111111111, \"#46039f\"], [0.2222222222222222, \"#7201a8\"], [0.3333333333333333, \"#9c179e\"], [0.4444444444444444, \"#bd3786\"], [0.5555555555555556, \"#d8576b\"], [0.6666666666666666, \"#ed7953\"], [0.7777777777777778, \"#fb9f3a\"], [0.8888888888888888, \"#fdca26\"], [1.0, \"#f0f921\"]], \"type\": \"histogram2dcontour\"}], \"mesh3d\": [{\"colorbar\": {\"outlinewidth\": 0, \"ticks\": \"\"}, \"type\": \"mesh3d\"}], \"parcoords\": [{\"line\": {\"colorbar\": {\"outlinewidth\": 0, \"ticks\": \"\"}}, \"type\": \"parcoords\"}], \"pie\": [{\"automargin\": true, \"type\": \"pie\"}], \"scatter\": [{\"marker\": {\"colorbar\": {\"outlinewidth\": 0, \"ticks\": \"\"}}, \"type\": \"scatter\"}], \"scatter3d\": [{\"line\": {\"colorbar\": {\"outlinewidth\": 0, \"ticks\": \"\"}}, \"marker\": {\"colorbar\": {\"outlinewidth\": 0, \"ticks\": \"\"}}, \"type\": \"scatter3d\"}], \"scattercarpet\": [{\"marker\": {\"colorbar\": {\"outlinewidth\": 0, \"ticks\": \"\"}}, \"type\": \"scattercarpet\"}], \"scattergeo\": [{\"marker\": {\"colorbar\": {\"outlinewidth\": 0, \"ticks\": \"\"}}, \"type\": \"scattergeo\"}], \"scattergl\": [{\"marker\": {\"colorbar\": {\"outlinewidth\": 0, \"ticks\": \"\"}}, \"type\": \"scattergl\"}], \"scattermapbox\": [{\"marker\": {\"colorbar\": {\"outlinewidth\": 0, \"ticks\": \"\"}}, \"type\": \"scattermapbox\"}], \"scatterpolar\": [{\"marker\": {\"colorbar\": {\"outlinewidth\": 0, \"ticks\": \"\"}}, \"type\": \"scatterpolar\"}], \"scatterpolargl\": [{\"marker\": {\"colorbar\": {\"outlinewidth\": 0, \"ticks\": \"\"}}, \"type\": \"scatterpolargl\"}], \"scatterternary\": [{\"marker\": {\"colorbar\": {\"outlinewidth\": 0, \"ticks\": \"\"}}, \"type\": \"scatterternary\"}], \"surface\": [{\"colorbar\": {\"outlinewidth\": 0, \"ticks\": \"\"}, \"colorscale\": [[0.0, \"#0d0887\"], [0.1111111111111111, \"#46039f\"], [0.2222222222222222, \"#7201a8\"], [0.3333333333333333, \"#9c179e\"], [0.4444444444444444, \"#bd3786\"], [0.5555555555555556, \"#d8576b\"], [0.6666666666666666, \"#ed7953\"], [0.7777777777777778, \"#fb9f3a\"], [0.8888888888888888, \"#fdca26\"], [1.0, \"#f0f921\"]], \"type\": \"surface\"}], \"table\": [{\"cells\": {\"fill\": {\"color\": \"#EBF0F8\"}, \"line\": {\"color\": \"white\"}}, \"header\": {\"fill\": {\"color\": \"#C8D4E3\"}, \"line\": {\"color\": \"white\"}}, \"type\": \"table\"}]}, \"layout\": {\"annotationdefaults\": {\"arrowcolor\": \"#2a3f5f\", \"arrowhead\": 0, \"arrowwidth\": 1}, \"autotypenumbers\": \"strict\", \"coloraxis\": {\"colorbar\": {\"outlinewidth\": 0, \"ticks\": \"\"}}, \"colorscale\": {\"diverging\": [[0, \"#8e0152\"], [0.1, \"#c51b7d\"], [0.2, \"#de77ae\"], [0.3, \"#f1b6da\"], [0.4, \"#fde0ef\"], [0.5, \"#f7f7f7\"], [0.6, \"#e6f5d0\"], [0.7, \"#b8e186\"], [0.8, \"#7fbc41\"], [0.9, \"#4d9221\"], [1, \"#276419\"]], \"sequential\": [[0.0, \"#0d0887\"], [0.1111111111111111, \"#46039f\"], [0.2222222222222222, \"#7201a8\"], [0.3333333333333333, \"#9c179e\"], [0.4444444444444444, \"#bd3786\"], [0.5555555555555556, \"#d8576b\"], [0.6666666666666666, \"#ed7953\"], [0.7777777777777778, \"#fb9f3a\"], [0.8888888888888888, \"#fdca26\"], [1.0, \"#f0f921\"]], \"sequentialminus\": [[0.0, \"#0d0887\"], [0.1111111111111111, \"#46039f\"], [0.2222222222222222, \"#7201a8\"], [0.3333333333333333, \"#9c179e\"], [0.4444444444444444, \"#bd3786\"], [0.5555555555555556, \"#d8576b\"], [0.6666666666666666, \"#ed7953\"], [0.7777777777777778, \"#fb9f3a\"], [0.8888888888888888, \"#fdca26\"], [1.0, \"#f0f921\"]]}, \"colorway\": [\"#636efa\", \"#EF553B\", \"#00cc96\", \"#ab63fa\", \"#FFA15A\", \"#19d3f3\", \"#FF6692\", \"#B6E880\", \"#FF97FF\", \"#FECB52\"], \"font\": {\"color\": \"#2a3f5f\"}, \"geo\": {\"bgcolor\": \"white\", \"lakecolor\": \"white\", \"landcolor\": \"#E5ECF6\", \"showlakes\": true, \"showland\": true, \"subunitcolor\": \"white\"}, \"hoverlabel\": {\"align\": \"left\"}, \"hovermode\": \"closest\", \"mapbox\": {\"style\": \"light\"}, \"paper_bgcolor\": \"white\", \"plot_bgcolor\": \"#E5ECF6\", \"polar\": {\"angularaxis\": {\"gridcolor\": \"white\", \"linecolor\": \"white\", \"ticks\": \"\"}, \"bgcolor\": \"#E5ECF6\", \"radialaxis\": {\"gridcolor\": \"white\", \"linecolor\": \"white\", \"ticks\": \"\"}}, \"scene\": {\"xaxis\": {\"backgroundcolor\": \"#E5ECF6\", \"gridcolor\": \"white\", \"gridwidth\": 2, \"linecolor\": \"white\", \"showbackground\": true, \"ticks\": \"\", \"zerolinecolor\": \"white\"}, \"yaxis\": {\"backgroundcolor\": \"#E5ECF6\", \"gridcolor\": \"white\", \"gridwidth\": 2, \"linecolor\": \"white\", \"showbackground\": true, \"ticks\": \"\", \"zerolinecolor\": \"white\"}, \"zaxis\": {\"backgroundcolor\": \"#E5ECF6\", \"gridcolor\": \"white\", \"gridwidth\": 2, \"linecolor\": \"white\", \"showbackground\": true, \"ticks\": \"\", \"zerolinecolor\": \"white\"}}, \"shapedefaults\": {\"line\": {\"color\": \"#2a3f5f\"}}, \"ternary\": {\"aaxis\": {\"gridcolor\": \"white\", \"linecolor\": \"white\", \"ticks\": \"\"}, \"baxis\": {\"gridcolor\": \"white\", \"linecolor\": \"white\", \"ticks\": \"\"}, \"bgcolor\": \"#E5ECF6\", \"caxis\": {\"gridcolor\": \"white\", \"linecolor\": \"white\", \"ticks\": \"\"}}, \"title\": {\"x\": 0.05}, \"xaxis\": {\"automargin\": true, \"gridcolor\": \"white\", \"linecolor\": \"white\", \"ticks\": \"\", \"title\": {\"standoff\": 15}, \"zerolinecolor\": \"white\", \"zerolinewidth\": 2}, \"yaxis\": {\"automargin\": true, \"gridcolor\": \"white\", \"linecolor\": \"white\", \"ticks\": \"\", \"title\": {\"standoff\": 15}, \"zerolinecolor\": \"white\", \"zerolinewidth\": 2}}}, \"title\": {\"text\": \"Category counts\"}},                        {\"responsive\": true}                    ).then(function(){\n",
       "                            \n",
       "var gd = document.getElementById('a8b5115f-8085-4d49-a2b1-8f825573f201');\n",
       "var x = new MutationObserver(function (mutations, observer) {{\n",
       "        var display = window.getComputedStyle(gd).display;\n",
       "        if (!display || display === 'none') {{\n",
       "            console.log([gd, 'removed!']);\n",
       "            Plotly.purge(gd);\n",
       "            observer.disconnect();\n",
       "        }}\n",
       "}});\n",
       "\n",
       "// Listen for the removal of the full notebook cells\n",
       "var notebookContainer = gd.closest('#notebook-container');\n",
       "if (notebookContainer) {{\n",
       "    x.observe(notebookContainer, {childList: true});\n",
       "}}\n",
       "\n",
       "// Listen for the clearing of the current output cell\n",
       "var outputEl = gd.closest('.output');\n",
       "if (outputEl) {{\n",
       "    x.observe(outputEl, {childList: true});\n",
       "}}\n",
       "\n",
       "                        })                };                });            </script>        </div>"
      ]
     },
     "metadata": {},
     "output_type": "display_data"
    }
   ],
   "source": [
    "# visualizations for the web app\n",
    "import plotly.graph_objects as go\n",
    "\n",
    "df_temp = df.iloc[:,4:].sum(axis=0)\n",
    "\n",
    "fig = go.Figure(data=[go.Bar(\n",
    "    x=df_temp.index,\n",
    "    y=df_temp.values,\n",
    ")])\n",
    "fig.update_layout(title_text='Category counts')"
   ]
  },
  {
   "cell_type": "code",
   "execution_count": 35,
   "metadata": {
    "scrolled": false
   },
   "outputs": [
    {
     "data": {
      "application/vnd.plotly.v1+json": {
       "config": {
        "plotlyServerURL": "https://plot.ly"
       },
       "data": [
        {
         "hoverongaps": false,
         "type": "heatmap",
         "x": [
          "related",
          "request",
          "offer",
          "aid_related",
          "medical_help",
          "medical_products",
          "search_and_rescue",
          "security",
          "military",
          "child_alone",
          "water",
          "food",
          "shelter",
          "clothing",
          "money",
          "missing_people",
          "refugees",
          "death",
          "other_aid",
          "infrastructure_related",
          "transport",
          "buildings",
          "electricity",
          "tools",
          "hospitals",
          "shops",
          "aid_centers",
          "other_infrastructure",
          "weather_related",
          "floods",
          "storm",
          "fire",
          "earthquake",
          "cold",
          "other_weather",
          "direct_report"
         ],
         "y": [
          "related",
          "request",
          "offer",
          "aid_related",
          "medical_help",
          "medical_products",
          "search_and_rescue",
          "security",
          "military",
          "child_alone",
          "water",
          "food",
          "shelter",
          "clothing",
          "money",
          "missing_people",
          "refugees",
          "death",
          "other_aid",
          "infrastructure_related",
          "transport",
          "buildings",
          "electricity",
          "tools",
          "hospitals",
          "shops",
          "aid_centers",
          "other_infrastructure",
          "weather_related",
          "floods",
          "storm",
          "fire",
          "earthquake",
          "cold",
          "other_weather",
          "direct_report"
         ],
         "z": [
          [
           1,
           0.25039894939965995,
           0.03711675338994437,
           0.46420976587673857,
           0.16221292966766943,
           0.12674753420622165,
           0.09302509391035581,
           0.07466149995673275,
           0.101658029836397,
           null,
           0.14407166769922458,
           0.19553985439942953,
           0.17175046117387,
           0.06914452218708095,
           0.08476751889473907,
           0.05918886856017315,
           0.10257109497284914,
           0.12057967319049911,
           0.21473850661763597,
           0.14558438847336047,
           0.12094953456377522,
           0.12776052929006915,
           0.07944328805954862,
           0.043119027759478575,
           0.05766329852636848,
           0.03743141483688917,
           0.06028417607407955,
           0.11828692484062737,
           0.34281422380930643,
           0.1651962164363814,
           0.1769510496681535,
           0.057560219929684096,
           0.17742989706101217,
           0.07929073073450693,
           0.12991713470209174,
           0.2704517539599375
          ],
          [
           0.25039894939965995,
           1,
           -0.030503799855012306,
           0.44801766577858737,
           0.12868883680283344,
           0.10641155500699656,
           0.07142470429717732,
           0.05695716960415189,
           -0.04426973364831198,
           null,
           0.2392710836940374,
           0.35117881316563704,
           0.2805990146734911,
           0.08211470278590309,
           0.06279571154322751,
           0.02787247624281976,
           0.024085327559638298,
           0.008862990206669455,
           0.24392832573546647,
           0.021798549055766572,
           0.02571729047553232,
           0.06300073326879675,
           0.010215306358813344,
           0.019411097969467012,
           0.016387379816550127,
           0.03232492835324584,
           0.022795583697335545,
           -0.0026902441268799124,
           -0.014557348559889497,
           -0.005457535370323926,
           -0.04566959828653393,
           -0.008971667358561084,
           0.006966052853350441,
           -0.0017670364380940361,
           -0.01538381355540266,
           0.647934248006853
          ],
          [
           0.03711675338994437,
           -0.030503799855012306,
           1,
           0.06723160290705872,
           0.005517998586544139,
           0.03942299819403887,
           -0.000900282551638695,
           -0.00909532351080339,
           0.00041247665217384905,
           null,
           0.0057692387326078775,
           0.06308262620801201,
           0.005190849241461333,
           0.056264217459807635,
           0.05424354772631369,
           -0.007210435205630336,
           -0.009322759024507774,
           -0.014689112020654455,
           0.03286755822518545,
           -0.013113421655704843,
           -0.0038320608156654505,
           -0.015563889641623299,
           -0.0015949882410845157,
           -0.005252794374222892,
           -0.0015101372930887012,
           -0.004559924828805794,
           -0.00206386373271253,
           -0.014409807586869428,
           -0.013789712774134046,
           -0.0014526020196517484,
           -0.01371518252274821,
           -0.0014879179425225804,
           -0.011834747397724886,
           -0.009659260098662147,
           -0.005605517296087069,
           0.01897465075517052
          ],
          [
           0.46420976587673857,
           0.44801766577858737,
           0.06723160290705872,
           1,
           0.3494388562922702,
           0.2730393531614717,
           0.20039452150400758,
           0.16083569421621732,
           0.2189915794735576,
           null,
           0.31035897624239217,
           0.4212316688989122,
           0.36998459274007434,
           0.14895102875849528,
           0.18260606545974292,
           0.1275045742486384,
           0.22095850305761325,
           0.2597525559652223,
           0.46258937748125173,
           0.1980532926663424,
           0.15536152758597177,
           0.14973351051019462,
           0.07008362473071196,
           0.08590533570447169,
           0.10848133248256793,
           0.0645738390272575,
           0.11623131058237376,
           0.13159817894870968,
           0.2092564915009943,
           0.16753737958908602,
           0.06018957081385676,
           0.053431529657325935,
           0.08053199058659989,
           0.08112295345052463,
           0.1260385577481429,
           0.37485468931147264
          ],
          [
           0.16221292966766943,
           0.12868883680283344,
           0.005517998586544139,
           0.3494388562922702,
           1,
           0.3411034010013215,
           0.10364247976814486,
           0.06110324139783181,
           0.006042679197884512,
           null,
           0.13681376142717386,
           0.08899064509316848,
           0.08204014849907315,
           0.03979422999422591,
           0.021602782843381938,
           0.08554442389461298,
           0.08120765905411441,
           0.12044172178300797,
           0.08265514458179472,
           0.10948488996958648,
           0.23438833432155032,
           0.03981675241190754,
           0.020709529541886294,
           0.05332340380309803,
           0.1644364804151558,
           0.03647529748450807,
           0.060671522800016406,
           0.03475666497316839,
           0.09656519257695484,
           0.1856831601601046,
           0.007174480392204096,
           0.026768211001763294,
           0.01589339857590767,
           0.030926318164672062,
           0.03895905458546226,
           0.09941557377218939
          ],
          [
           0.12674753420622165,
           0.10641155500699656,
           0.03942299819403887,
           0.2730393531614717,
           0.3411034010013215,
           1,
           0.08082592710935248,
           0.05978597989817191,
           -0.004981427144505116,
           null,
           0.24852426668549038,
           0.1914682436972685,
           0.16465951173258367,
           0.17826529301536917,
           0.04400119061605862,
           0.10075329572197096,
           0.08195503899277357,
           0.059718756925188854,
           0.10734662332392682,
           0.09758802509221413,
           0.12199290391992973,
           0.032029712794708655,
           0.04757033353271892,
           0.07666391115404578,
           0.0995534560725584,
           0.04401663469802821,
           0.08024761054362496,
           0.043831690710096974,
           0.04624830602063003,
           0.0917249613222973,
           0.000385214961999212,
           0.03369566157005603,
           0.004225521398358835,
           0.04032716866860977,
           0.03221622365412936,
           0.06276973000023475
          ],
          [
           0.09302509391035581,
           0.07142470429717732,
           -0.000900282551638695,
           0.20039452150400758,
           0.10364247976814486,
           0.08082592710935248,
           1,
           0.10162649979986868,
           0.04606269765471357,
           null,
           0.02364617073199316,
           0.010555818834930559,
           0.036999973848193826,
           0.012862304508660181,
           0.014458337013339696,
           0.22785473379575952,
           0.12808201242698405,
           0.11390337487688364,
           0.0832394543717449,
           0.09525653555538702,
           0.1801714278983277,
           0.09343866580639032,
           0.05663638646685098,
           0.09176575385007299,
           0.07474925517081842,
           0.02305555565368823,
           0.04414108119083826,
           0.06159128096062623,
           0.14359199252936156,
           0.14362948759888344,
           0.03885982212491746,
           0.05237750266879817,
           0.06567518839732482,
           0.0651017951709533,
           0.044880586354161665,
           0.057051944420630864
          ],
          [
           0.07466149995673275,
           0.05695716960415189,
           -0.00909532351080339,
           0.16083569421621732,
           0.06110324139783181,
           0.05978597989817191,
           0.10162649979986868,
           1,
           0.16049269173790437,
           null,
           -0.004748492378243488,
           0.002265485831560175,
           0.02067613634581033,
           0.04825493617911294,
           -0.0016307459457369925,
           0.14803295221825538,
           0.10756570821351902,
           0.09854670885067336,
           0.06126675705697411,
           0.06564312742456013,
           0.14754720168899746,
           0.043203434634581143,
           0.03348638363463225,
           0.06710651498042086,
           0.04145002924000227,
           0.046133980491914486,
           0.033123059485798786,
           0.03268667783145257,
           0.08002777074396705,
           0.10693678231304618,
           0.003069436769782192,
           0.058275952084341415,
           0.019607372640897215,
           0.03770239872117575,
           0.01323486761658358,
           0.04856541587421112
          ],
          [
           0.101658029836397,
           -0.04426973364831198,
           0.00041247665217384905,
           0.2189915794735576,
           0.006042679197884512,
           -0.004981427144505116,
           0.04606269765471357,
           0.16049269173790437,
           1,
           null,
           -0.017396830090395773,
           -0.02850169864948851,
           -0.023335114117204726,
           -0.003969885333273022,
           -0.0011627512239005206,
           0.024693278038605805,
           0.057579011912867566,
           0.09842741746275757,
           -0.0012981449809129754,
           0.05476875202844853,
           0.02007571960841435,
           0.0061120064588815115,
           0.012981473438373421,
           0.035259799509351354,
           0.030496321081302256,
           0.022408283626782426,
           0.0314757619754196,
           0.03369849180182256,
           -0.015472959568525565,
           -0.0005427631908550955,
           -0.03178312363330432,
           0.04307358757133845,
           -0.0195067878756961,
           0.011583702230048745,
           0.0065868942273520446,
           -0.0382047635964211
          ],
          [
           null,
           null,
           null,
           null,
           null,
           null,
           null,
           null,
           null,
           null,
           null,
           null,
           null,
           null,
           null,
           null,
           null,
           null,
           null,
           null,
           null,
           null,
           null,
           null,
           null,
           null,
           null,
           null,
           null,
           null,
           null,
           null,
           null,
           null,
           null,
           null
          ],
          [
           0.14407166769922458,
           0.2392710836940374,
           0.0057692387326078775,
           0.31035897624239217,
           0.13681376142717386,
           0.24852426668549038,
           0.02364617073199316,
           -0.004748492378243488,
           -0.017396830090395773,
           null,
           1,
           0.35192125653672207,
           0.20823013878620997,
           0.10020778836351783,
           0.026508157283770355,
           0.0044080177385739305,
           0.03319218837928218,
           0.007372054995435993,
           0.044912098626445456,
           0.0792917177425258,
           0.023444063585904222,
           0.031962314232971085,
           0.062074207348330225,
           0.03389577918237866,
           0.03617974328492464,
           0.047052802255434,
           0.05972460481703114,
           0.05606829596937116,
           0.00020734800380265553,
           0.021342577719315452,
           -0.004196763845250518,
           0.013640574601010706,
           -0.01799314896098115,
           0.006872793586331229,
           0.04846612055994227,
           0.19332409835993306
          ],
          [
           0.19553985439942953,
           0.35117881316563704,
           0.06308262620801201,
           0.4212316688989122,
           0.08899064509316848,
           0.1914682436972685,
           0.010555818834930559,
           0.002265485831560175,
           -0.02850169864948851,
           null,
           0.35192125653672207,
           1,
           0.22940653043076398,
           0.19736277811423192,
           0.05384215265707151,
           -0.0128353401473405,
           0.024584555678014947,
           0.0005043951782950028,
           0.03650152960126314,
           0.04024693945727045,
           0.014541924114864753,
           0.015098537737423482,
           0.0005857094345187633,
           0.02695910632616809,
           0.001694922060326886,
           0.04240727521625552,
           0.03879293357298751,
           0.025827106085631903,
           -0.015041041042431742,
           0.013111121678632695,
           -0.0009993482873451218,
           0.007703120990460391,
           -0.0564644608430698,
           0.002501021091685323,
           0.04541819534187744,
           0.29787900368193626
          ],
          [
           0.17175046117387,
           0.2805990146734911,
           0.005190849241461333,
           0.36998459274007434,
           0.08204014849907315,
           0.16465951173258367,
           0.036999973848193826,
           0.02067613634581033,
           -0.023335114117204726,
           null,
           0.20823013878620997,
           0.22940653043076398,
           1,
           0.16599603112457395,
           0.03825625257725813,
           0.0046874317220743904,
           0.1884715939357841,
           0.020383030190174883,
           0.06718275895593466,
           0.14804555509148754,
           0.02636027838661343,
           0.21687909794356497,
           0.023879286093047406,
           0.04669916071310353,
           0.027350969814960657,
           0.04862009394691505,
           0.15663932682239434,
           0.09739452548895747,
           0.09147411138995161,
           0.0679374578805882,
           0.05474653005679549,
           0.01708599652969606,
           0.021367992694971354,
           0.07186172396294929,
           0.05338573767767369,
           0.2344916430985368
          ],
          [
           0.06914452218708095,
           0.08211470278590309,
           0.056264217459807635,
           0.14895102875849528,
           0.03979422999422591,
           0.17826529301536917,
           0.012862304508660181,
           0.04825493617911294,
           -0.003969885333273022,
           null,
           0.10020778836351783,
           0.19736277811423192,
           0.16599603112457395,
           1,
           0.05291764446111615,
           0.006991033027065129,
           0.016327506549842028,
           -0.006595891909886208,
           0.047381752091839605,
           0.029675217217953558,
           0.021369740410828234,
           0.014650928015099613,
           0.019261747271668836,
           0.030050626046089077,
           0.04677538007895437,
           0.014415560619609125,
           0.035038108245481654,
           0.004857940647302132,
           0.01191641497588293,
           0.009804542582057141,
           -0.0029177788738117137,
           0.00792555074617127,
           -0.0031081924693690025,
           0.04134130741176856,
           0.002415937402456345,
           0.0670052090876142
          ],
          [
           0.08476751889473907,
           0.06279571154322751,
           0.05424354772631369,
           0.18260606545974292,
           0.021602782843381938,
           0.04400119061605862,
           0.014458337013339696,
           -0.0016307459457369925,
           -0.0011627512239005206,
           null,
           0.026508157283770355,
           0.05384215265707151,
           0.03825625257725813,
           0.05291764446111615,
           1,
           0.002719778012763803,
           0.016759253094351955,
           -0.0018414307370608208,
           0.08924529943381825,
           0.06260228344592479,
           0.027153001342281918,
           0.03621006054602656,
           0.0211740207605672,
           0.024024845374877823,
           0.02824451155996426,
           0.027251953121495656,
           0.03505565715516327,
           0.05271651859806847,
           0.06913917229903935,
           0.04567921609904602,
           0.02336366928773876,
           0.003703610952028939,
           0.06234297267474705,
           0.005037761745378437,
           0.03226090000757744,
           0.016776498349196905
          ],
          [
           0.05918886856017315,
           0.02787247624281976,
           -0.007210435205630336,
           0.1275045742486384,
           0.08554442389461298,
           0.10075329572197096,
           0.22785473379575952,
           0.14803295221825538,
           0.024693278038605805,
           null,
           0.0044080177385739305,
           -0.0128353401473405,
           0.0046874317220743904,
           0.006991033027065129,
           0.002719778012763803,
           1,
           0.1363301431088267,
           0.19230294377295357,
           0.06690665051829875,
           0.041759960857878274,
           0.20367873903807787,
           0.03578367112441134,
           0.02284617746673263,
           0.03796790563679647,
           0.02013679484177199,
           0.024712331885246727,
           0.03163141130335457,
           0.029708674041100763,
           0.1228785205257505,
           0.17227149920992438,
           0.031228895452632653,
           0.009747200812843216,
           0.05322357653157806,
           0.02805978171205668,
           0.03123486237588706,
           0.008478454588378592
          ],
          [
           0.10257109497284914,
           0.024085327559638298,
           -0.009322759024507774,
           0.22095850305761325,
           0.08120765905411441,
           0.08195503899277357,
           0.12808201242698405,
           0.10756570821351902,
           0.057579011912867566,
           null,
           0.03319218837928218,
           0.024584555678014947,
           0.1884715939357841,
           0.016327506549842028,
           0.016759253094351955,
           0.1363301431088267,
           1,
           0.10098735809139661,
           0.07540873858628624,
           0.12064748143444796,
           0.14211443673837643,
           0.08845874196534036,
           0.016933459285505163,
           0.023776940608305284,
           0.023744683176612158,
           0.04402867280257198,
           0.12531664977680704,
           0.08041577680538634,
           0.10540212982276512,
           0.1477288492556564,
           0.03759242702650812,
           0.032089774675361886,
           0.01753648029067804,
           0.03215459844209348,
           0.0457782639641067,
           0.00570143397441091
          ],
          [
           0.12057967319049911,
           0.008862990206669455,
           -0.014689112020654455,
           0.2597525559652223,
           0.12044172178300797,
           0.059718756925188854,
           0.11390337487688364,
           0.09854670885067336,
           0.09842741746275757,
           null,
           0.007372054995435993,
           0.0005043951782950028,
           0.020383030190174883,
           -0.006595891909886208,
           -0.0018414307370608208,
           0.19230294377295357,
           0.10098735809139661,
           1,
           0.022766712936728488,
           0.0788990390530736,
           0.13501891695945925,
           0.12016102497188821,
           0.01397345637905402,
           0.022993701556085305,
           0.028522612273149384,
           0.03668309435732895,
           0.03547359989460347,
           0.06748646361121417,
           0.1676312097351437,
           0.1584245037029012,
           0.07975911841837897,
           0.035747583973451263,
           0.09368437040364014,
           0.05311535698398118,
           0.08476908930863272,
           0.011044499891400232
          ],
          [
           0.21473850661763597,
           0.24392832573546647,
           0.03286755822518545,
           0.46258937748125173,
           0.08265514458179472,
           0.10734662332392682,
           0.0832394543717449,
           0.06126675705697411,
           -0.0012981449809129754,
           null,
           0.044912098626445456,
           0.03650152960126314,
           0.06718275895593466,
           0.047381752091839605,
           0.08924529943381825,
           0.06690665051829875,
           0.07540873858628624,
           0.022766712936728488,
           1,
           0.13820187176866827,
           0.1177785474557723,
           0.08261931720090206,
           0.08812556911964892,
           0.05830472016899876,
           0.028184860272749024,
           0.02546430366194463,
           0.06629844370154177,
           0.13593316711124678,
           0.16997486403725093,
           0.10674750016018736,
           0.05858838368801794,
           0.03494440067024353,
           0.10434848140294695,
           0.03315244538642159,
           0.09675122178990468,
           0.1928318485714167
          ],
          [
           0.14558438847336047,
           0.021798549055766572,
           -0.013113421655704843,
           0.1980532926663424,
           0.10948488996958648,
           0.09758802509221413,
           0.09525653555538702,
           0.06564312742456013,
           0.05476875202844853,
           null,
           0.0792917177425258,
           0.04024693945727045,
           0.14804555509148754,
           0.029675217217953558,
           0.06260228344592479,
           0.041759960857878274,
           0.12064748143444796,
           0.0788990390530736,
           0.13820187176866827,
           1,
           0.12495448156972787,
           0.2473660005538146,
           0.10136908555958983,
           0.06108273764997887,
           0.3960816069019654,
           0.2571114611216587,
           0.41408406977037143,
           0.8124973156876052,
           0.2334619190076906,
           0.1722423340129749,
           0.11925638679391665,
           0.07596638657652796,
           0.09362478164116325,
           0.07751892252881813,
           0.15780943982313983,
           0.03129224120006232
          ],
          [
           0.12094953456377522,
           0.02571729047553232,
           -0.0038320608156654505,
           0.15536152758597177,
           0.23438833432155032,
           0.12199290391992973,
           0.1801714278983277,
           0.14754720168899746,
           0.02007571960841435,
           null,
           0.023444063585904222,
           0.014541924114864753,
           0.02636027838661343,
           0.021369740410828234,
           0.027153001342281918,
           0.20367873903807787,
           0.14211443673837643,
           0.13501891695945925,
           0.1177785474557723,
           0.12495448156972787,
           1,
           0.12534485478246302,
           0.11985241790408822,
           0.03927876759036889,
           0.031840995166020916,
           0.044603013733111666,
           0.04368788632654109,
           0.13381119998598573,
           0.2567433726327922,
           0.3973873162573193,
           0.09419077430975152,
           0.039052314221483427,
           0.03414734372460423,
           0.07093264137926239,
           0.05968969180979447,
           0.03947893523625856
          ],
          [
           0.12776052929006915,
           0.06300073326879675,
           -0.015563889641623299,
           0.14973351051019462,
           0.03981675241190754,
           0.032029712794708655,
           0.09343866580639032,
           0.043203434634581143,
           0.0061120064588815115,
           null,
           0.031962314232971085,
           0.015098537737423482,
           0.21687909794356497,
           0.014650928015099613,
           0.03621006054602656,
           0.03578367112441134,
           0.08845874196534036,
           0.12016102497188821,
           0.08261931720090206,
           0.2473660005538146,
           0.12534485478246302,
           1,
           0.09106313838296494,
           0.024409865405411242,
           0.06319489333664025,
           0.08976877004378506,
           0.08090489677928393,
           0.24955995705237446,
           0.2181008342587142,
           0.16272885599110615,
           0.1133548189348698,
           0.07180731731146527,
           0.11810628687002882,
           0.05434529314765922,
           0.09968614629236897,
           0.07556228705353639
          ],
          [
           0.07944328805954862,
           0.010215306358813344,
           -0.0015949882410845157,
           0.07008362473071196,
           0.020709529541886294,
           0.04757033353271892,
           0.05663638646685098,
           0.03348638363463225,
           0.012981473438373421,
           null,
           0.062074207348330225,
           0.0005857094345187633,
           0.023879286093047406,
           0.019261747271668836,
           0.0211740207605672,
           0.02284617746673263,
           0.016933459285505163,
           0.01397345637905402,
           0.08812556911964892,
           0.10136908555958983,
           0.11985241790408822,
           0.09106313838296494,
           1,
           0.041022002990022254,
           0.02946984295864428,
           0.034325489514421326,
           0.03692088124863096,
           0.10780068996614724,
           0.13274542871561676,
           0.056403275581368324,
           0.12695866775764617,
           0.08727032944795436,
           0.01595209351422144,
           0.08312326250291889,
           0.0583205660196535,
           0.049304836231425314
          ],
          [
           0.043119027759478575,
           0.019411097969467012,
           -0.005252794374222892,
           0.08590533570447169,
           0.05332340380309803,
           0.07666391115404578,
           0.09176575385007299,
           0.06710651498042086,
           0.035259799509351354,
           null,
           0.03389577918237866,
           0.02695910632616809,
           0.04669916071310353,
           0.030050626046089077,
           0.024024845374877823,
           0.03796790563679647,
           0.023776940608305284,
           0.022993701556085305,
           0.05830472016899876,
           0.06108273764997887,
           0.03927876759036889,
           0.024409865405411242,
           0.041022002990022254,
           1,
           0.03938239959166761,
           0.03109402372038481,
           0.023333688189240618,
           0.050401676345881156,
           0.07316223713132713,
           0.03206951961513885,
           0.018899369401908773,
           0.06329342129649074,
           0.03897138044549722,
           0.09699219798479342,
           0.0388928953503118,
           0.01643706055590029
          ],
          [
           0.05766329852636848,
           0.016387379816550127,
           -0.0015101372930887012,
           0.10848133248256793,
           0.1644364804151558,
           0.0995534560725584,
           0.07474925517081842,
           0.04145002924000227,
           0.030496321081302256,
           null,
           0.03617974328492464,
           0.001694922060326886,
           0.027350969814960657,
           0.04677538007895437,
           0.02824451155996426,
           0.02013679484177199,
           0.023744683176612158,
           0.028522612273149384,
           0.028184860272749024,
           0.3960816069019654,
           0.031840995166020916,
           0.06319489333664025,
           0.02946984295864428,
           0.03938239959166761,
           1,
           0.042132489279941836,
           0.1356620368123949,
           0.04607696838162137,
           0.06607633349983354,
           0.02383546226593991,
           0.01095474558086843,
           0.03562542425371673,
           0.04497658979833933,
           0.058431389252692166,
           0.03665640669285944,
           0.020753312483172942
          ],
          [
           0.03743141483688917,
           0.03232492835324584,
           -0.004559924828805794,
           0.0645738390272575,
           0.03647529748450807,
           0.04401663469802821,
           0.02305555565368823,
           0.046133980491914486,
           0.022408283626782426,
           null,
           0.047052802255434,
           0.04240727521625552,
           0.04862009394691505,
           0.014415560619609125,
           0.027251953121495656,
           0.024712331885246727,
           0.04402867280257198,
           0.03668309435732895,
           0.02546430366194463,
           0.2571114611216587,
           0.044603013733111666,
           0.08976877004378506,
           0.034325489514421326,
           0.03109402372038481,
           0.042132489279941836,
           1,
           0.02924600425022421,
           0.0489054603831368,
           0.08018858530736965,
           0.04348304956077756,
           0.03269164907734592,
           0.042231388546192274,
           0.05384989493807681,
           0.058516574395586336,
           0.027116991685162784,
           0.03542574495070948
          ],
          [
           0.06028417607407955,
           0.022795583697335545,
           -0.00206386373271253,
           0.11623131058237376,
           0.060671522800016406,
           0.08024761054362496,
           0.04414108119083826,
           0.033123059485798786,
           0.0314757619754196,
           null,
           0.05972460481703114,
           0.03879293357298751,
           0.15663932682239434,
           0.035038108245481654,
           0.03505565715516327,
           0.03163141130335457,
           0.12531664977680704,
           0.03547359989460347,
           0.06629844370154177,
           0.41408406977037143,
           0.04368788632654109,
           0.08090489677928393,
           0.03692088124863096,
           0.023333688189240618,
           0.1356620368123949,
           0.02924600425022421,
           1,
           0.08527554917864606,
           0.07017751461377261,
           0.03937331775169158,
           0.03915486558853469,
           0.053710038027816334,
           0.04132365764852539,
           0.03453697278952563,
           0.04402915059858696,
           0.02163020023654297
          ],
          [
           0.11828692484062737,
           -0.0026902441268799124,
           -0.014409807586869428,
           0.13159817894870968,
           0.03475666497316839,
           0.043831690710096974,
           0.06159128096062623,
           0.03268667783145257,
           0.03369849180182256,
           null,
           0.05606829596937116,
           0.025827106085631903,
           0.09739452548895747,
           0.004857940647302132,
           0.05271651859806847,
           0.029708674041100763,
           0.08041577680538634,
           0.06748646361121417,
           0.13593316711124678,
           0.8124973156876052,
           0.13381119998598573,
           0.24955995705237446,
           0.10780068996614724,
           0.050401676345881156,
           0.04607696838162137,
           0.0489054603831368,
           0.08527554917864606,
           1,
           0.21294625915847415,
           0.18191533387831382,
           0.12408107434699307,
           0.053456262224625434,
           0.06659613188483121,
           0.030067938943729982,
           0.16411995425001982,
           0.0029103170610019413
          ],
          [
           0.34281422380930643,
           -0.014557348559889497,
           -0.013789712774134046,
           0.2092564915009943,
           0.09656519257695484,
           0.04624830602063003,
           0.14359199252936156,
           0.08002777074396705,
           -0.015472959568525565,
           null,
           0.00020734800380265553,
           -0.015041041042431742,
           0.09147411138995161,
           0.01191641497588293,
           0.06913917229903935,
           0.1228785205257505,
           0.10540212982276512,
           0.1676312097351437,
           0.16997486403725093,
           0.2334619190076906,
           0.2567433726327922,
           0.2181008342587142,
           0.13274542871561676,
           0.07316223713132713,
           0.06607633349983354,
           0.08018858530736965,
           0.07017751461377261,
           0.21294625915847415,
           1,
           0.4818826202738693,
           0.5161718428771598,
           0.16790499323535102,
           0.5175686559601701,
           0.23129358476856282,
           0.3789724161922725,
           0.0791343710358467
          ],
          [
           0.1651962164363814,
           -0.005457535370323926,
           -0.0014526020196517484,
           0.16753737958908602,
           0.1856831601601046,
           0.0917249613222973,
           0.14362948759888344,
           0.10693678231304618,
           -0.0005427631908550955,
           null,
           0.021342577719315452,
           0.013111121678632695,
           0.0679374578805882,
           0.009804542582057141,
           0.04567921609904602,
           0.17227149920992438,
           0.1477288492556564,
           0.1584245037029012,
           0.10674750016018736,
           0.1722423340129749,
           0.3973873162573193,
           0.16272885599110615,
           0.056403275581368324,
           0.03206951961513885,
           0.02383546226593991,
           0.04348304956077756,
           0.03937331775169158,
           0.18191533387831382,
           0.4818826202738693,
           1,
           0.20598516581036802,
           0.04148921570659945,
           0.0034259698323747512,
           0.04482880098646375,
           0.10268009877473233,
           0.0027452502951186386
          ],
          [
           0.1769510496681535,
           -0.04566959828653393,
           -0.01371518252274821,
           0.06018957081385676,
           0.007174480392204096,
           0.000385214961999212,
           0.03885982212491746,
           0.003069436769782192,
           -0.03178312363330432,
           null,
           -0.004196763845250518,
           -0.0009993482873451218,
           0.05474653005679549,
           -0.0029177788738117137,
           0.02336366928773876,
           0.031228895452632653,
           0.03759242702650812,
           0.07975911841837897,
           0.05858838368801794,
           0.11925638679391665,
           0.09419077430975152,
           0.1133548189348698,
           0.12695866775764617,
           0.018899369401908773,
           0.01095474558086843,
           0.03269164907734592,
           0.03915486558853469,
           0.12408107434699307,
           0.5161718428771598,
           0.20598516581036802,
           1,
           0.027629139424436514,
           -0.018369318680815608,
           0.0807494602671861,
           0.1557925234437361,
           0.07075850924642384
          ],
          [
           0.057560219929684096,
           -0.008971667358561084,
           -0.0014879179425225804,
           0.053431529657325935,
           0.026768211001763294,
           0.03369566157005603,
           0.05237750266879817,
           0.058275952084341415,
           0.04307358757133845,
           null,
           0.013640574601010706,
           0.007703120990460391,
           0.01708599652969606,
           0.00792555074617127,
           0.003703610952028939,
           0.009747200812843216,
           0.032089774675361886,
           0.035747583973451263,
           0.03494440067024353,
           0.07596638657652796,
           0.039052314221483427,
           0.07180731731146527,
           0.08727032944795436,
           0.06329342129649074,
           0.03562542425371673,
           0.042231388546192274,
           0.053710038027816334,
           0.053456262224625434,
           0.16790499323535102,
           0.04148921570659945,
           0.027629139424436514,
           1,
           0.017250581234296822,
           0.04019530062063409,
           0.06997058082118902,
           0.004124697654476778
          ],
          [
           0.17742989706101217,
           0.006966052853350441,
           -0.011834747397724886,
           0.08053199058659989,
           0.01589339857590767,
           0.004225521398358835,
           0.06567518839732482,
           0.019607372640897215,
           -0.0195067878756961,
           null,
           -0.01799314896098115,
           -0.0564644608430698,
           0.021367992694971354,
           -0.0031081924693690025,
           0.06234297267474705,
           0.05322357653157806,
           0.01753648029067804,
           0.09368437040364014,
           0.10434848140294695,
           0.09362478164116325,
           0.03414734372460423,
           0.11810628687002882,
           0.01595209351422144,
           0.03897138044549722,
           0.04497658979833933,
           0.05384989493807681,
           0.04132365764852539,
           0.06659613188483121,
           0.5175686559601701,
           0.0034259698323747512,
           -0.018369318680815608,
           0.017250581234296822,
           1,
           0.03755269162968956,
           0.016521133032975564,
           0.028410461397093533
          ],
          [
           0.07929073073450693,
           -0.0017670364380940361,
           -0.009659260098662147,
           0.08112295345052463,
           0.030926318164672062,
           0.04032716866860977,
           0.0651017951709533,
           0.03770239872117575,
           0.011583702230048745,
           null,
           0.006872793586331229,
           0.002501021091685323,
           0.07186172396294929,
           0.04134130741176856,
           0.005037761745378437,
           0.02805978171205668,
           0.03215459844209348,
           0.05311535698398118,
           0.03315244538642159,
           0.07751892252881813,
           0.07093264137926239,
           0.05434529314765922,
           0.08312326250291889,
           0.09699219798479342,
           0.058431389252692166,
           0.058516574395586336,
           0.03453697278952563,
           0.030067938943729982,
           0.23129358476856282,
           0.04482880098646375,
           0.0807494602671861,
           0.04019530062063409,
           0.03755269162968956,
           1,
           0.07435515989293252,
           0.003701827001782229
          ],
          [
           0.12991713470209174,
           -0.01538381355540266,
           -0.005605517296087069,
           0.1260385577481429,
           0.03895905458546226,
           0.03221622365412936,
           0.044880586354161665,
           0.01323486761658358,
           0.0065868942273520446,
           null,
           0.04846612055994227,
           0.04541819534187744,
           0.05338573767767369,
           0.002415937402456345,
           0.03226090000757744,
           0.03123486237588706,
           0.0457782639641067,
           0.08476908930863272,
           0.09675122178990468,
           0.15780943982313983,
           0.05968969180979447,
           0.09968614629236897,
           0.0583205660196535,
           0.0388928953503118,
           0.03665640669285944,
           0.027116991685162784,
           0.04402915059858696,
           0.16411995425001982,
           0.3789724161922725,
           0.10268009877473233,
           0.1557925234437361,
           0.06997058082118902,
           0.016521133032975564,
           0.07435515989293252,
           1,
           0.003298018034832018
          ],
          [
           0.2704517539599375,
           0.647934248006853,
           0.01897465075517052,
           0.37485468931147264,
           0.09941557377218939,
           0.06276973000023475,
           0.057051944420630864,
           0.04856541587421112,
           -0.0382047635964211,
           null,
           0.19332409835993306,
           0.29787900368193626,
           0.2344916430985368,
           0.0670052090876142,
           0.016776498349196905,
           0.008478454588378592,
           0.00570143397441091,
           0.011044499891400232,
           0.1928318485714167,
           0.03129224120006232,
           0.03947893523625856,
           0.07556228705353639,
           0.049304836231425314,
           0.01643706055590029,
           0.020753312483172942,
           0.03542574495070948,
           0.02163020023654297,
           0.0029103170610019413,
           0.0791343710358467,
           0.0027452502951186386,
           0.07075850924642384,
           0.004124697654476778,
           0.028410461397093533,
           0.003701827001782229,
           0.003298018034832018,
           1
          ]
         ]
        }
       ],
       "layout": {
        "template": {
         "data": {
          "bar": [
           {
            "error_x": {
             "color": "#2a3f5f"
            },
            "error_y": {
             "color": "#2a3f5f"
            },
            "marker": {
             "line": {
              "color": "#E5ECF6",
              "width": 0.5
             }
            },
            "type": "bar"
           }
          ],
          "barpolar": [
           {
            "marker": {
             "line": {
              "color": "#E5ECF6",
              "width": 0.5
             }
            },
            "type": "barpolar"
           }
          ],
          "carpet": [
           {
            "aaxis": {
             "endlinecolor": "#2a3f5f",
             "gridcolor": "white",
             "linecolor": "white",
             "minorgridcolor": "white",
             "startlinecolor": "#2a3f5f"
            },
            "baxis": {
             "endlinecolor": "#2a3f5f",
             "gridcolor": "white",
             "linecolor": "white",
             "minorgridcolor": "white",
             "startlinecolor": "#2a3f5f"
            },
            "type": "carpet"
           }
          ],
          "choropleth": [
           {
            "colorbar": {
             "outlinewidth": 0,
             "ticks": ""
            },
            "type": "choropleth"
           }
          ],
          "contour": [
           {
            "colorbar": {
             "outlinewidth": 0,
             "ticks": ""
            },
            "colorscale": [
             [
              0,
              "#0d0887"
             ],
             [
              0.1111111111111111,
              "#46039f"
             ],
             [
              0.2222222222222222,
              "#7201a8"
             ],
             [
              0.3333333333333333,
              "#9c179e"
             ],
             [
              0.4444444444444444,
              "#bd3786"
             ],
             [
              0.5555555555555556,
              "#d8576b"
             ],
             [
              0.6666666666666666,
              "#ed7953"
             ],
             [
              0.7777777777777778,
              "#fb9f3a"
             ],
             [
              0.8888888888888888,
              "#fdca26"
             ],
             [
              1,
              "#f0f921"
             ]
            ],
            "type": "contour"
           }
          ],
          "contourcarpet": [
           {
            "colorbar": {
             "outlinewidth": 0,
             "ticks": ""
            },
            "type": "contourcarpet"
           }
          ],
          "heatmap": [
           {
            "colorbar": {
             "outlinewidth": 0,
             "ticks": ""
            },
            "colorscale": [
             [
              0,
              "#0d0887"
             ],
             [
              0.1111111111111111,
              "#46039f"
             ],
             [
              0.2222222222222222,
              "#7201a8"
             ],
             [
              0.3333333333333333,
              "#9c179e"
             ],
             [
              0.4444444444444444,
              "#bd3786"
             ],
             [
              0.5555555555555556,
              "#d8576b"
             ],
             [
              0.6666666666666666,
              "#ed7953"
             ],
             [
              0.7777777777777778,
              "#fb9f3a"
             ],
             [
              0.8888888888888888,
              "#fdca26"
             ],
             [
              1,
              "#f0f921"
             ]
            ],
            "type": "heatmap"
           }
          ],
          "heatmapgl": [
           {
            "colorbar": {
             "outlinewidth": 0,
             "ticks": ""
            },
            "colorscale": [
             [
              0,
              "#0d0887"
             ],
             [
              0.1111111111111111,
              "#46039f"
             ],
             [
              0.2222222222222222,
              "#7201a8"
             ],
             [
              0.3333333333333333,
              "#9c179e"
             ],
             [
              0.4444444444444444,
              "#bd3786"
             ],
             [
              0.5555555555555556,
              "#d8576b"
             ],
             [
              0.6666666666666666,
              "#ed7953"
             ],
             [
              0.7777777777777778,
              "#fb9f3a"
             ],
             [
              0.8888888888888888,
              "#fdca26"
             ],
             [
              1,
              "#f0f921"
             ]
            ],
            "type": "heatmapgl"
           }
          ],
          "histogram": [
           {
            "marker": {
             "colorbar": {
              "outlinewidth": 0,
              "ticks": ""
             }
            },
            "type": "histogram"
           }
          ],
          "histogram2d": [
           {
            "colorbar": {
             "outlinewidth": 0,
             "ticks": ""
            },
            "colorscale": [
             [
              0,
              "#0d0887"
             ],
             [
              0.1111111111111111,
              "#46039f"
             ],
             [
              0.2222222222222222,
              "#7201a8"
             ],
             [
              0.3333333333333333,
              "#9c179e"
             ],
             [
              0.4444444444444444,
              "#bd3786"
             ],
             [
              0.5555555555555556,
              "#d8576b"
             ],
             [
              0.6666666666666666,
              "#ed7953"
             ],
             [
              0.7777777777777778,
              "#fb9f3a"
             ],
             [
              0.8888888888888888,
              "#fdca26"
             ],
             [
              1,
              "#f0f921"
             ]
            ],
            "type": "histogram2d"
           }
          ],
          "histogram2dcontour": [
           {
            "colorbar": {
             "outlinewidth": 0,
             "ticks": ""
            },
            "colorscale": [
             [
              0,
              "#0d0887"
             ],
             [
              0.1111111111111111,
              "#46039f"
             ],
             [
              0.2222222222222222,
              "#7201a8"
             ],
             [
              0.3333333333333333,
              "#9c179e"
             ],
             [
              0.4444444444444444,
              "#bd3786"
             ],
             [
              0.5555555555555556,
              "#d8576b"
             ],
             [
              0.6666666666666666,
              "#ed7953"
             ],
             [
              0.7777777777777778,
              "#fb9f3a"
             ],
             [
              0.8888888888888888,
              "#fdca26"
             ],
             [
              1,
              "#f0f921"
             ]
            ],
            "type": "histogram2dcontour"
           }
          ],
          "mesh3d": [
           {
            "colorbar": {
             "outlinewidth": 0,
             "ticks": ""
            },
            "type": "mesh3d"
           }
          ],
          "parcoords": [
           {
            "line": {
             "colorbar": {
              "outlinewidth": 0,
              "ticks": ""
             }
            },
            "type": "parcoords"
           }
          ],
          "pie": [
           {
            "automargin": true,
            "type": "pie"
           }
          ],
          "scatter": [
           {
            "marker": {
             "colorbar": {
              "outlinewidth": 0,
              "ticks": ""
             }
            },
            "type": "scatter"
           }
          ],
          "scatter3d": [
           {
            "line": {
             "colorbar": {
              "outlinewidth": 0,
              "ticks": ""
             }
            },
            "marker": {
             "colorbar": {
              "outlinewidth": 0,
              "ticks": ""
             }
            },
            "type": "scatter3d"
           }
          ],
          "scattercarpet": [
           {
            "marker": {
             "colorbar": {
              "outlinewidth": 0,
              "ticks": ""
             }
            },
            "type": "scattercarpet"
           }
          ],
          "scattergeo": [
           {
            "marker": {
             "colorbar": {
              "outlinewidth": 0,
              "ticks": ""
             }
            },
            "type": "scattergeo"
           }
          ],
          "scattergl": [
           {
            "marker": {
             "colorbar": {
              "outlinewidth": 0,
              "ticks": ""
             }
            },
            "type": "scattergl"
           }
          ],
          "scattermapbox": [
           {
            "marker": {
             "colorbar": {
              "outlinewidth": 0,
              "ticks": ""
             }
            },
            "type": "scattermapbox"
           }
          ],
          "scatterpolar": [
           {
            "marker": {
             "colorbar": {
              "outlinewidth": 0,
              "ticks": ""
             }
            },
            "type": "scatterpolar"
           }
          ],
          "scatterpolargl": [
           {
            "marker": {
             "colorbar": {
              "outlinewidth": 0,
              "ticks": ""
             }
            },
            "type": "scatterpolargl"
           }
          ],
          "scatterternary": [
           {
            "marker": {
             "colorbar": {
              "outlinewidth": 0,
              "ticks": ""
             }
            },
            "type": "scatterternary"
           }
          ],
          "surface": [
           {
            "colorbar": {
             "outlinewidth": 0,
             "ticks": ""
            },
            "colorscale": [
             [
              0,
              "#0d0887"
             ],
             [
              0.1111111111111111,
              "#46039f"
             ],
             [
              0.2222222222222222,
              "#7201a8"
             ],
             [
              0.3333333333333333,
              "#9c179e"
             ],
             [
              0.4444444444444444,
              "#bd3786"
             ],
             [
              0.5555555555555556,
              "#d8576b"
             ],
             [
              0.6666666666666666,
              "#ed7953"
             ],
             [
              0.7777777777777778,
              "#fb9f3a"
             ],
             [
              0.8888888888888888,
              "#fdca26"
             ],
             [
              1,
              "#f0f921"
             ]
            ],
            "type": "surface"
           }
          ],
          "table": [
           {
            "cells": {
             "fill": {
              "color": "#EBF0F8"
             },
             "line": {
              "color": "white"
             }
            },
            "header": {
             "fill": {
              "color": "#C8D4E3"
             },
             "line": {
              "color": "white"
             }
            },
            "type": "table"
           }
          ]
         },
         "layout": {
          "annotationdefaults": {
           "arrowcolor": "#2a3f5f",
           "arrowhead": 0,
           "arrowwidth": 1
          },
          "autotypenumbers": "strict",
          "coloraxis": {
           "colorbar": {
            "outlinewidth": 0,
            "ticks": ""
           }
          },
          "colorscale": {
           "diverging": [
            [
             0,
             "#8e0152"
            ],
            [
             0.1,
             "#c51b7d"
            ],
            [
             0.2,
             "#de77ae"
            ],
            [
             0.3,
             "#f1b6da"
            ],
            [
             0.4,
             "#fde0ef"
            ],
            [
             0.5,
             "#f7f7f7"
            ],
            [
             0.6,
             "#e6f5d0"
            ],
            [
             0.7,
             "#b8e186"
            ],
            [
             0.8,
             "#7fbc41"
            ],
            [
             0.9,
             "#4d9221"
            ],
            [
             1,
             "#276419"
            ]
           ],
           "sequential": [
            [
             0,
             "#0d0887"
            ],
            [
             0.1111111111111111,
             "#46039f"
            ],
            [
             0.2222222222222222,
             "#7201a8"
            ],
            [
             0.3333333333333333,
             "#9c179e"
            ],
            [
             0.4444444444444444,
             "#bd3786"
            ],
            [
             0.5555555555555556,
             "#d8576b"
            ],
            [
             0.6666666666666666,
             "#ed7953"
            ],
            [
             0.7777777777777778,
             "#fb9f3a"
            ],
            [
             0.8888888888888888,
             "#fdca26"
            ],
            [
             1,
             "#f0f921"
            ]
           ],
           "sequentialminus": [
            [
             0,
             "#0d0887"
            ],
            [
             0.1111111111111111,
             "#46039f"
            ],
            [
             0.2222222222222222,
             "#7201a8"
            ],
            [
             0.3333333333333333,
             "#9c179e"
            ],
            [
             0.4444444444444444,
             "#bd3786"
            ],
            [
             0.5555555555555556,
             "#d8576b"
            ],
            [
             0.6666666666666666,
             "#ed7953"
            ],
            [
             0.7777777777777778,
             "#fb9f3a"
            ],
            [
             0.8888888888888888,
             "#fdca26"
            ],
            [
             1,
             "#f0f921"
            ]
           ]
          },
          "colorway": [
           "#636efa",
           "#EF553B",
           "#00cc96",
           "#ab63fa",
           "#FFA15A",
           "#19d3f3",
           "#FF6692",
           "#B6E880",
           "#FF97FF",
           "#FECB52"
          ],
          "font": {
           "color": "#2a3f5f"
          },
          "geo": {
           "bgcolor": "white",
           "lakecolor": "white",
           "landcolor": "#E5ECF6",
           "showlakes": true,
           "showland": true,
           "subunitcolor": "white"
          },
          "hoverlabel": {
           "align": "left"
          },
          "hovermode": "closest",
          "mapbox": {
           "style": "light"
          },
          "paper_bgcolor": "white",
          "plot_bgcolor": "#E5ECF6",
          "polar": {
           "angularaxis": {
            "gridcolor": "white",
            "linecolor": "white",
            "ticks": ""
           },
           "bgcolor": "#E5ECF6",
           "radialaxis": {
            "gridcolor": "white",
            "linecolor": "white",
            "ticks": ""
           }
          },
          "scene": {
           "xaxis": {
            "backgroundcolor": "#E5ECF6",
            "gridcolor": "white",
            "gridwidth": 2,
            "linecolor": "white",
            "showbackground": true,
            "ticks": "",
            "zerolinecolor": "white"
           },
           "yaxis": {
            "backgroundcolor": "#E5ECF6",
            "gridcolor": "white",
            "gridwidth": 2,
            "linecolor": "white",
            "showbackground": true,
            "ticks": "",
            "zerolinecolor": "white"
           },
           "zaxis": {
            "backgroundcolor": "#E5ECF6",
            "gridcolor": "white",
            "gridwidth": 2,
            "linecolor": "white",
            "showbackground": true,
            "ticks": "",
            "zerolinecolor": "white"
           }
          },
          "shapedefaults": {
           "line": {
            "color": "#2a3f5f"
           }
          },
          "ternary": {
           "aaxis": {
            "gridcolor": "white",
            "linecolor": "white",
            "ticks": ""
           },
           "baxis": {
            "gridcolor": "white",
            "linecolor": "white",
            "ticks": ""
           },
           "bgcolor": "#E5ECF6",
           "caxis": {
            "gridcolor": "white",
            "linecolor": "white",
            "ticks": ""
           }
          },
          "title": {
           "x": 0.05
          },
          "xaxis": {
           "automargin": true,
           "gridcolor": "white",
           "linecolor": "white",
           "ticks": "",
           "title": {
            "standoff": 15
           },
           "zerolinecolor": "white",
           "zerolinewidth": 2
          },
          "yaxis": {
           "automargin": true,
           "gridcolor": "white",
           "linecolor": "white",
           "ticks": "",
           "title": {
            "standoff": 15
           },
           "zerolinecolor": "white",
           "zerolinewidth": 2
          }
         }
        }
       }
      },
      "text/html": [
       "<div>                            <div id=\"1c5c4501-22ad-448d-93db-a4a68e79ac9d\" class=\"plotly-graph-div\" style=\"height:525px; width:100%;\"></div>            <script type=\"text/javascript\">                require([\"plotly\"], function(Plotly) {                    window.PLOTLYENV=window.PLOTLYENV || {};                                    if (document.getElementById(\"1c5c4501-22ad-448d-93db-a4a68e79ac9d\")) {                    Plotly.newPlot(                        \"1c5c4501-22ad-448d-93db-a4a68e79ac9d\",                        [{\"hoverongaps\": false, \"type\": \"heatmap\", \"x\": [\"related\", \"request\", \"offer\", \"aid_related\", \"medical_help\", \"medical_products\", \"search_and_rescue\", \"security\", \"military\", \"child_alone\", \"water\", \"food\", \"shelter\", \"clothing\", \"money\", \"missing_people\", \"refugees\", \"death\", \"other_aid\", \"infrastructure_related\", \"transport\", \"buildings\", \"electricity\", \"tools\", \"hospitals\", \"shops\", \"aid_centers\", \"other_infrastructure\", \"weather_related\", \"floods\", \"storm\", \"fire\", \"earthquake\", \"cold\", \"other_weather\", \"direct_report\"], \"y\": [\"related\", \"request\", \"offer\", \"aid_related\", \"medical_help\", \"medical_products\", \"search_and_rescue\", \"security\", \"military\", \"child_alone\", \"water\", \"food\", \"shelter\", \"clothing\", \"money\", \"missing_people\", \"refugees\", \"death\", \"other_aid\", \"infrastructure_related\", \"transport\", \"buildings\", \"electricity\", \"tools\", \"hospitals\", \"shops\", \"aid_centers\", \"other_infrastructure\", \"weather_related\", \"floods\", \"storm\", \"fire\", \"earthquake\", \"cold\", \"other_weather\", \"direct_report\"], \"z\": [[1.0, 0.25039894939965995, 0.03711675338994437, 0.46420976587673857, 0.16221292966766943, 0.12674753420622165, 0.09302509391035581, 0.07466149995673275, 0.101658029836397, null, 0.14407166769922458, 0.19553985439942953, 0.17175046117387, 0.06914452218708095, 0.08476751889473907, 0.05918886856017315, 0.10257109497284914, 0.12057967319049911, 0.21473850661763597, 0.14558438847336047, 0.12094953456377522, 0.12776052929006915, 0.07944328805954862, 0.043119027759478575, 0.05766329852636848, 0.03743141483688917, 0.06028417607407955, 0.11828692484062737, 0.34281422380930643, 0.1651962164363814, 0.1769510496681535, 0.057560219929684096, 0.17742989706101217, 0.07929073073450693, 0.12991713470209174, 0.2704517539599375], [0.25039894939965995, 1.0, -0.030503799855012306, 0.44801766577858737, 0.12868883680283344, 0.10641155500699656, 0.07142470429717732, 0.05695716960415189, -0.04426973364831198, null, 0.2392710836940374, 0.35117881316563704, 0.2805990146734911, 0.08211470278590309, 0.06279571154322751, 0.02787247624281976, 0.024085327559638298, 0.008862990206669455, 0.24392832573546647, 0.021798549055766572, 0.02571729047553232, 0.06300073326879675, 0.010215306358813344, 0.019411097969467012, 0.016387379816550127, 0.03232492835324584, 0.022795583697335545, -0.0026902441268799124, -0.014557348559889497, -0.005457535370323926, -0.04566959828653393, -0.008971667358561084, 0.006966052853350441, -0.0017670364380940361, -0.01538381355540266, 0.647934248006853], [0.03711675338994437, -0.030503799855012306, 1.0, 0.06723160290705872, 0.005517998586544139, 0.03942299819403887, -0.000900282551638695, -0.00909532351080339, 0.00041247665217384905, null, 0.0057692387326078775, 0.06308262620801201, 0.005190849241461333, 0.056264217459807635, 0.05424354772631369, -0.007210435205630336, -0.009322759024507774, -0.014689112020654455, 0.03286755822518545, -0.013113421655704843, -0.0038320608156654505, -0.015563889641623299, -0.0015949882410845157, -0.005252794374222892, -0.0015101372930887012, -0.004559924828805794, -0.00206386373271253, -0.014409807586869428, -0.013789712774134046, -0.0014526020196517484, -0.01371518252274821, -0.0014879179425225804, -0.011834747397724886, -0.009659260098662147, -0.005605517296087069, 0.01897465075517052], [0.46420976587673857, 0.44801766577858737, 0.06723160290705872, 1.0, 0.3494388562922702, 0.2730393531614717, 0.20039452150400758, 0.16083569421621732, 0.2189915794735576, null, 0.31035897624239217, 0.4212316688989122, 0.36998459274007434, 0.14895102875849528, 0.18260606545974292, 0.1275045742486384, 0.22095850305761325, 0.2597525559652223, 0.46258937748125173, 0.1980532926663424, 0.15536152758597177, 0.14973351051019462, 0.07008362473071196, 0.08590533570447169, 0.10848133248256793, 0.0645738390272575, 0.11623131058237376, 0.13159817894870968, 0.2092564915009943, 0.16753737958908602, 0.06018957081385676, 0.053431529657325935, 0.08053199058659989, 0.08112295345052463, 0.1260385577481429, 0.37485468931147264], [0.16221292966766943, 0.12868883680283344, 0.005517998586544139, 0.3494388562922702, 1.0, 0.3411034010013215, 0.10364247976814486, 0.06110324139783181, 0.006042679197884512, null, 0.13681376142717386, 0.08899064509316848, 0.08204014849907315, 0.03979422999422591, 0.021602782843381938, 0.08554442389461298, 0.08120765905411441, 0.12044172178300797, 0.08265514458179472, 0.10948488996958648, 0.23438833432155032, 0.03981675241190754, 0.020709529541886294, 0.05332340380309803, 0.1644364804151558, 0.03647529748450807, 0.060671522800016406, 0.03475666497316839, 0.09656519257695484, 0.1856831601601046, 0.007174480392204096, 0.026768211001763294, 0.01589339857590767, 0.030926318164672062, 0.03895905458546226, 0.09941557377218939], [0.12674753420622165, 0.10641155500699656, 0.03942299819403887, 0.2730393531614717, 0.3411034010013215, 1.0, 0.08082592710935248, 0.05978597989817191, -0.004981427144505116, null, 0.24852426668549038, 0.1914682436972685, 0.16465951173258367, 0.17826529301536917, 0.04400119061605862, 0.10075329572197096, 0.08195503899277357, 0.059718756925188854, 0.10734662332392682, 0.09758802509221413, 0.12199290391992973, 0.032029712794708655, 0.04757033353271892, 0.07666391115404578, 0.0995534560725584, 0.04401663469802821, 0.08024761054362496, 0.043831690710096974, 0.04624830602063003, 0.0917249613222973, 0.000385214961999212, 0.03369566157005603, 0.004225521398358835, 0.04032716866860977, 0.03221622365412936, 0.06276973000023475], [0.09302509391035581, 0.07142470429717732, -0.000900282551638695, 0.20039452150400758, 0.10364247976814486, 0.08082592710935248, 1.0, 0.10162649979986868, 0.04606269765471357, null, 0.02364617073199316, 0.010555818834930559, 0.036999973848193826, 0.012862304508660181, 0.014458337013339696, 0.22785473379575952, 0.12808201242698405, 0.11390337487688364, 0.0832394543717449, 0.09525653555538702, 0.1801714278983277, 0.09343866580639032, 0.05663638646685098, 0.09176575385007299, 0.07474925517081842, 0.02305555565368823, 0.04414108119083826, 0.06159128096062623, 0.14359199252936156, 0.14362948759888344, 0.03885982212491746, 0.05237750266879817, 0.06567518839732482, 0.0651017951709533, 0.044880586354161665, 0.057051944420630864], [0.07466149995673275, 0.05695716960415189, -0.00909532351080339, 0.16083569421621732, 0.06110324139783181, 0.05978597989817191, 0.10162649979986868, 1.0, 0.16049269173790437, null, -0.004748492378243488, 0.002265485831560175, 0.02067613634581033, 0.04825493617911294, -0.0016307459457369925, 0.14803295221825538, 0.10756570821351902, 0.09854670885067336, 0.06126675705697411, 0.06564312742456013, 0.14754720168899746, 0.043203434634581143, 0.03348638363463225, 0.06710651498042086, 0.04145002924000227, 0.046133980491914486, 0.033123059485798786, 0.03268667783145257, 0.08002777074396705, 0.10693678231304618, 0.003069436769782192, 0.058275952084341415, 0.019607372640897215, 0.03770239872117575, 0.01323486761658358, 0.04856541587421112], [0.101658029836397, -0.04426973364831198, 0.00041247665217384905, 0.2189915794735576, 0.006042679197884512, -0.004981427144505116, 0.04606269765471357, 0.16049269173790437, 1.0, null, -0.017396830090395773, -0.02850169864948851, -0.023335114117204726, -0.003969885333273022, -0.0011627512239005206, 0.024693278038605805, 0.057579011912867566, 0.09842741746275757, -0.0012981449809129754, 0.05476875202844853, 0.02007571960841435, 0.0061120064588815115, 0.012981473438373421, 0.035259799509351354, 0.030496321081302256, 0.022408283626782426, 0.0314757619754196, 0.03369849180182256, -0.015472959568525565, -0.0005427631908550955, -0.03178312363330432, 0.04307358757133845, -0.0195067878756961, 0.011583702230048745, 0.0065868942273520446, -0.0382047635964211], [null, null, null, null, null, null, null, null, null, null, null, null, null, null, null, null, null, null, null, null, null, null, null, null, null, null, null, null, null, null, null, null, null, null, null, null], [0.14407166769922458, 0.2392710836940374, 0.0057692387326078775, 0.31035897624239217, 0.13681376142717386, 0.24852426668549038, 0.02364617073199316, -0.004748492378243488, -0.017396830090395773, null, 1.0, 0.35192125653672207, 0.20823013878620997, 0.10020778836351783, 0.026508157283770355, 0.0044080177385739305, 0.03319218837928218, 0.007372054995435993, 0.044912098626445456, 0.0792917177425258, 0.023444063585904222, 0.031962314232971085, 0.062074207348330225, 0.03389577918237866, 0.03617974328492464, 0.047052802255434, 0.05972460481703114, 0.05606829596937116, 0.00020734800380265553, 0.021342577719315452, -0.004196763845250518, 0.013640574601010706, -0.01799314896098115, 0.006872793586331229, 0.04846612055994227, 0.19332409835993306], [0.19553985439942953, 0.35117881316563704, 0.06308262620801201, 0.4212316688989122, 0.08899064509316848, 0.1914682436972685, 0.010555818834930559, 0.002265485831560175, -0.02850169864948851, null, 0.35192125653672207, 1.0, 0.22940653043076398, 0.19736277811423192, 0.05384215265707151, -0.0128353401473405, 0.024584555678014947, 0.0005043951782950028, 0.03650152960126314, 0.04024693945727045, 0.014541924114864753, 0.015098537737423482, 0.0005857094345187633, 0.02695910632616809, 0.001694922060326886, 0.04240727521625552, 0.03879293357298751, 0.025827106085631903, -0.015041041042431742, 0.013111121678632695, -0.0009993482873451218, 0.007703120990460391, -0.0564644608430698, 0.002501021091685323, 0.04541819534187744, 0.29787900368193626], [0.17175046117387, 0.2805990146734911, 0.005190849241461333, 0.36998459274007434, 0.08204014849907315, 0.16465951173258367, 0.036999973848193826, 0.02067613634581033, -0.023335114117204726, null, 0.20823013878620997, 0.22940653043076398, 1.0, 0.16599603112457395, 0.03825625257725813, 0.0046874317220743904, 0.1884715939357841, 0.020383030190174883, 0.06718275895593466, 0.14804555509148754, 0.02636027838661343, 0.21687909794356497, 0.023879286093047406, 0.04669916071310353, 0.027350969814960657, 0.04862009394691505, 0.15663932682239434, 0.09739452548895747, 0.09147411138995161, 0.0679374578805882, 0.05474653005679549, 0.01708599652969606, 0.021367992694971354, 0.07186172396294929, 0.05338573767767369, 0.2344916430985368], [0.06914452218708095, 0.08211470278590309, 0.056264217459807635, 0.14895102875849528, 0.03979422999422591, 0.17826529301536917, 0.012862304508660181, 0.04825493617911294, -0.003969885333273022, null, 0.10020778836351783, 0.19736277811423192, 0.16599603112457395, 1.0, 0.05291764446111615, 0.006991033027065129, 0.016327506549842028, -0.006595891909886208, 0.047381752091839605, 0.029675217217953558, 0.021369740410828234, 0.014650928015099613, 0.019261747271668836, 0.030050626046089077, 0.04677538007895437, 0.014415560619609125, 0.035038108245481654, 0.004857940647302132, 0.01191641497588293, 0.009804542582057141, -0.0029177788738117137, 0.00792555074617127, -0.0031081924693690025, 0.04134130741176856, 0.002415937402456345, 0.0670052090876142], [0.08476751889473907, 0.06279571154322751, 0.05424354772631369, 0.18260606545974292, 0.021602782843381938, 0.04400119061605862, 0.014458337013339696, -0.0016307459457369925, -0.0011627512239005206, null, 0.026508157283770355, 0.05384215265707151, 0.03825625257725813, 0.05291764446111615, 1.0, 0.002719778012763803, 0.016759253094351955, -0.0018414307370608208, 0.08924529943381825, 0.06260228344592479, 0.027153001342281918, 0.03621006054602656, 0.0211740207605672, 0.024024845374877823, 0.02824451155996426, 0.027251953121495656, 0.03505565715516327, 0.05271651859806847, 0.06913917229903935, 0.04567921609904602, 0.02336366928773876, 0.003703610952028939, 0.06234297267474705, 0.005037761745378437, 0.03226090000757744, 0.016776498349196905], [0.05918886856017315, 0.02787247624281976, -0.007210435205630336, 0.1275045742486384, 0.08554442389461298, 0.10075329572197096, 0.22785473379575952, 0.14803295221825538, 0.024693278038605805, null, 0.0044080177385739305, -0.0128353401473405, 0.0046874317220743904, 0.006991033027065129, 0.002719778012763803, 1.0, 0.1363301431088267, 0.19230294377295357, 0.06690665051829875, 0.041759960857878274, 0.20367873903807787, 0.03578367112441134, 0.02284617746673263, 0.03796790563679647, 0.02013679484177199, 0.024712331885246727, 0.03163141130335457, 0.029708674041100763, 0.1228785205257505, 0.17227149920992438, 0.031228895452632653, 0.009747200812843216, 0.05322357653157806, 0.02805978171205668, 0.03123486237588706, 0.008478454588378592], [0.10257109497284914, 0.024085327559638298, -0.009322759024507774, 0.22095850305761325, 0.08120765905411441, 0.08195503899277357, 0.12808201242698405, 0.10756570821351902, 0.057579011912867566, null, 0.03319218837928218, 0.024584555678014947, 0.1884715939357841, 0.016327506549842028, 0.016759253094351955, 0.1363301431088267, 1.0, 0.10098735809139661, 0.07540873858628624, 0.12064748143444796, 0.14211443673837643, 0.08845874196534036, 0.016933459285505163, 0.023776940608305284, 0.023744683176612158, 0.04402867280257198, 0.12531664977680704, 0.08041577680538634, 0.10540212982276512, 0.1477288492556564, 0.03759242702650812, 0.032089774675361886, 0.01753648029067804, 0.03215459844209348, 0.0457782639641067, 0.00570143397441091], [0.12057967319049911, 0.008862990206669455, -0.014689112020654455, 0.2597525559652223, 0.12044172178300797, 0.059718756925188854, 0.11390337487688364, 0.09854670885067336, 0.09842741746275757, null, 0.007372054995435993, 0.0005043951782950028, 0.020383030190174883, -0.006595891909886208, -0.0018414307370608208, 0.19230294377295357, 0.10098735809139661, 1.0, 0.022766712936728488, 0.0788990390530736, 0.13501891695945925, 0.12016102497188821, 0.01397345637905402, 0.022993701556085305, 0.028522612273149384, 0.03668309435732895, 0.03547359989460347, 0.06748646361121417, 0.1676312097351437, 0.1584245037029012, 0.07975911841837897, 0.035747583973451263, 0.09368437040364014, 0.05311535698398118, 0.08476908930863272, 0.011044499891400232], [0.21473850661763597, 0.24392832573546647, 0.03286755822518545, 0.46258937748125173, 0.08265514458179472, 0.10734662332392682, 0.0832394543717449, 0.06126675705697411, -0.0012981449809129754, null, 0.044912098626445456, 0.03650152960126314, 0.06718275895593466, 0.047381752091839605, 0.08924529943381825, 0.06690665051829875, 0.07540873858628624, 0.022766712936728488, 1.0, 0.13820187176866827, 0.1177785474557723, 0.08261931720090206, 0.08812556911964892, 0.05830472016899876, 0.028184860272749024, 0.02546430366194463, 0.06629844370154177, 0.13593316711124678, 0.16997486403725093, 0.10674750016018736, 0.05858838368801794, 0.03494440067024353, 0.10434848140294695, 0.03315244538642159, 0.09675122178990468, 0.1928318485714167], [0.14558438847336047, 0.021798549055766572, -0.013113421655704843, 0.1980532926663424, 0.10948488996958648, 0.09758802509221413, 0.09525653555538702, 0.06564312742456013, 0.05476875202844853, null, 0.0792917177425258, 0.04024693945727045, 0.14804555509148754, 0.029675217217953558, 0.06260228344592479, 0.041759960857878274, 0.12064748143444796, 0.0788990390530736, 0.13820187176866827, 1.0, 0.12495448156972787, 0.2473660005538146, 0.10136908555958983, 0.06108273764997887, 0.3960816069019654, 0.2571114611216587, 0.41408406977037143, 0.8124973156876052, 0.2334619190076906, 0.1722423340129749, 0.11925638679391665, 0.07596638657652796, 0.09362478164116325, 0.07751892252881813, 0.15780943982313983, 0.03129224120006232], [0.12094953456377522, 0.02571729047553232, -0.0038320608156654505, 0.15536152758597177, 0.23438833432155032, 0.12199290391992973, 0.1801714278983277, 0.14754720168899746, 0.02007571960841435, null, 0.023444063585904222, 0.014541924114864753, 0.02636027838661343, 0.021369740410828234, 0.027153001342281918, 0.20367873903807787, 0.14211443673837643, 0.13501891695945925, 0.1177785474557723, 0.12495448156972787, 1.0, 0.12534485478246302, 0.11985241790408822, 0.03927876759036889, 0.031840995166020916, 0.044603013733111666, 0.04368788632654109, 0.13381119998598573, 0.2567433726327922, 0.3973873162573193, 0.09419077430975152, 0.039052314221483427, 0.03414734372460423, 0.07093264137926239, 0.05968969180979447, 0.03947893523625856], [0.12776052929006915, 0.06300073326879675, -0.015563889641623299, 0.14973351051019462, 0.03981675241190754, 0.032029712794708655, 0.09343866580639032, 0.043203434634581143, 0.0061120064588815115, null, 0.031962314232971085, 0.015098537737423482, 0.21687909794356497, 0.014650928015099613, 0.03621006054602656, 0.03578367112441134, 0.08845874196534036, 0.12016102497188821, 0.08261931720090206, 0.2473660005538146, 0.12534485478246302, 1.0, 0.09106313838296494, 0.024409865405411242, 0.06319489333664025, 0.08976877004378506, 0.08090489677928393, 0.24955995705237446, 0.2181008342587142, 0.16272885599110615, 0.1133548189348698, 0.07180731731146527, 0.11810628687002882, 0.05434529314765922, 0.09968614629236897, 0.07556228705353639], [0.07944328805954862, 0.010215306358813344, -0.0015949882410845157, 0.07008362473071196, 0.020709529541886294, 0.04757033353271892, 0.05663638646685098, 0.03348638363463225, 0.012981473438373421, null, 0.062074207348330225, 0.0005857094345187633, 0.023879286093047406, 0.019261747271668836, 0.0211740207605672, 0.02284617746673263, 0.016933459285505163, 0.01397345637905402, 0.08812556911964892, 0.10136908555958983, 0.11985241790408822, 0.09106313838296494, 1.0, 0.041022002990022254, 0.02946984295864428, 0.034325489514421326, 0.03692088124863096, 0.10780068996614724, 0.13274542871561676, 0.056403275581368324, 0.12695866775764617, 0.08727032944795436, 0.01595209351422144, 0.08312326250291889, 0.0583205660196535, 0.049304836231425314], [0.043119027759478575, 0.019411097969467012, -0.005252794374222892, 0.08590533570447169, 0.05332340380309803, 0.07666391115404578, 0.09176575385007299, 0.06710651498042086, 0.035259799509351354, null, 0.03389577918237866, 0.02695910632616809, 0.04669916071310353, 0.030050626046089077, 0.024024845374877823, 0.03796790563679647, 0.023776940608305284, 0.022993701556085305, 0.05830472016899876, 0.06108273764997887, 0.03927876759036889, 0.024409865405411242, 0.041022002990022254, 1.0, 0.03938239959166761, 0.03109402372038481, 0.023333688189240618, 0.050401676345881156, 0.07316223713132713, 0.03206951961513885, 0.018899369401908773, 0.06329342129649074, 0.03897138044549722, 0.09699219798479342, 0.0388928953503118, 0.01643706055590029], [0.05766329852636848, 0.016387379816550127, -0.0015101372930887012, 0.10848133248256793, 0.1644364804151558, 0.0995534560725584, 0.07474925517081842, 0.04145002924000227, 0.030496321081302256, null, 0.03617974328492464, 0.001694922060326886, 0.027350969814960657, 0.04677538007895437, 0.02824451155996426, 0.02013679484177199, 0.023744683176612158, 0.028522612273149384, 0.028184860272749024, 0.3960816069019654, 0.031840995166020916, 0.06319489333664025, 0.02946984295864428, 0.03938239959166761, 1.0, 0.042132489279941836, 0.1356620368123949, 0.04607696838162137, 0.06607633349983354, 0.02383546226593991, 0.01095474558086843, 0.03562542425371673, 0.04497658979833933, 0.058431389252692166, 0.03665640669285944, 0.020753312483172942], [0.03743141483688917, 0.03232492835324584, -0.004559924828805794, 0.0645738390272575, 0.03647529748450807, 0.04401663469802821, 0.02305555565368823, 0.046133980491914486, 0.022408283626782426, null, 0.047052802255434, 0.04240727521625552, 0.04862009394691505, 0.014415560619609125, 0.027251953121495656, 0.024712331885246727, 0.04402867280257198, 0.03668309435732895, 0.02546430366194463, 0.2571114611216587, 0.044603013733111666, 0.08976877004378506, 0.034325489514421326, 0.03109402372038481, 0.042132489279941836, 1.0, 0.02924600425022421, 0.0489054603831368, 0.08018858530736965, 0.04348304956077756, 0.03269164907734592, 0.042231388546192274, 0.05384989493807681, 0.058516574395586336, 0.027116991685162784, 0.03542574495070948], [0.06028417607407955, 0.022795583697335545, -0.00206386373271253, 0.11623131058237376, 0.060671522800016406, 0.08024761054362496, 0.04414108119083826, 0.033123059485798786, 0.0314757619754196, null, 0.05972460481703114, 0.03879293357298751, 0.15663932682239434, 0.035038108245481654, 0.03505565715516327, 0.03163141130335457, 0.12531664977680704, 0.03547359989460347, 0.06629844370154177, 0.41408406977037143, 0.04368788632654109, 0.08090489677928393, 0.03692088124863096, 0.023333688189240618, 0.1356620368123949, 0.02924600425022421, 1.0, 0.08527554917864606, 0.07017751461377261, 0.03937331775169158, 0.03915486558853469, 0.053710038027816334, 0.04132365764852539, 0.03453697278952563, 0.04402915059858696, 0.02163020023654297], [0.11828692484062737, -0.0026902441268799124, -0.014409807586869428, 0.13159817894870968, 0.03475666497316839, 0.043831690710096974, 0.06159128096062623, 0.03268667783145257, 0.03369849180182256, null, 0.05606829596937116, 0.025827106085631903, 0.09739452548895747, 0.004857940647302132, 0.05271651859806847, 0.029708674041100763, 0.08041577680538634, 0.06748646361121417, 0.13593316711124678, 0.8124973156876052, 0.13381119998598573, 0.24955995705237446, 0.10780068996614724, 0.050401676345881156, 0.04607696838162137, 0.0489054603831368, 0.08527554917864606, 1.0, 0.21294625915847415, 0.18191533387831382, 0.12408107434699307, 0.053456262224625434, 0.06659613188483121, 0.030067938943729982, 0.16411995425001982, 0.0029103170610019413], [0.34281422380930643, -0.014557348559889497, -0.013789712774134046, 0.2092564915009943, 0.09656519257695484, 0.04624830602063003, 0.14359199252936156, 0.08002777074396705, -0.015472959568525565, null, 0.00020734800380265553, -0.015041041042431742, 0.09147411138995161, 0.01191641497588293, 0.06913917229903935, 0.1228785205257505, 0.10540212982276512, 0.1676312097351437, 0.16997486403725093, 0.2334619190076906, 0.2567433726327922, 0.2181008342587142, 0.13274542871561676, 0.07316223713132713, 0.06607633349983354, 0.08018858530736965, 0.07017751461377261, 0.21294625915847415, 1.0, 0.4818826202738693, 0.5161718428771598, 0.16790499323535102, 0.5175686559601701, 0.23129358476856282, 0.3789724161922725, 0.0791343710358467], [0.1651962164363814, -0.005457535370323926, -0.0014526020196517484, 0.16753737958908602, 0.1856831601601046, 0.0917249613222973, 0.14362948759888344, 0.10693678231304618, -0.0005427631908550955, null, 0.021342577719315452, 0.013111121678632695, 0.0679374578805882, 0.009804542582057141, 0.04567921609904602, 0.17227149920992438, 0.1477288492556564, 0.1584245037029012, 0.10674750016018736, 0.1722423340129749, 0.3973873162573193, 0.16272885599110615, 0.056403275581368324, 0.03206951961513885, 0.02383546226593991, 0.04348304956077756, 0.03937331775169158, 0.18191533387831382, 0.4818826202738693, 1.0, 0.20598516581036802, 0.04148921570659945, 0.0034259698323747512, 0.04482880098646375, 0.10268009877473233, 0.0027452502951186386], [0.1769510496681535, -0.04566959828653393, -0.01371518252274821, 0.06018957081385676, 0.007174480392204096, 0.000385214961999212, 0.03885982212491746, 0.003069436769782192, -0.03178312363330432, null, -0.004196763845250518, -0.0009993482873451218, 0.05474653005679549, -0.0029177788738117137, 0.02336366928773876, 0.031228895452632653, 0.03759242702650812, 0.07975911841837897, 0.05858838368801794, 0.11925638679391665, 0.09419077430975152, 0.1133548189348698, 0.12695866775764617, 0.018899369401908773, 0.01095474558086843, 0.03269164907734592, 0.03915486558853469, 0.12408107434699307, 0.5161718428771598, 0.20598516581036802, 1.0, 0.027629139424436514, -0.018369318680815608, 0.0807494602671861, 0.1557925234437361, 0.07075850924642384], [0.057560219929684096, -0.008971667358561084, -0.0014879179425225804, 0.053431529657325935, 0.026768211001763294, 0.03369566157005603, 0.05237750266879817, 0.058275952084341415, 0.04307358757133845, null, 0.013640574601010706, 0.007703120990460391, 0.01708599652969606, 0.00792555074617127, 0.003703610952028939, 0.009747200812843216, 0.032089774675361886, 0.035747583973451263, 0.03494440067024353, 0.07596638657652796, 0.039052314221483427, 0.07180731731146527, 0.08727032944795436, 0.06329342129649074, 0.03562542425371673, 0.042231388546192274, 0.053710038027816334, 0.053456262224625434, 0.16790499323535102, 0.04148921570659945, 0.027629139424436514, 1.0, 0.017250581234296822, 0.04019530062063409, 0.06997058082118902, 0.004124697654476778], [0.17742989706101217, 0.006966052853350441, -0.011834747397724886, 0.08053199058659989, 0.01589339857590767, 0.004225521398358835, 0.06567518839732482, 0.019607372640897215, -0.0195067878756961, null, -0.01799314896098115, -0.0564644608430698, 0.021367992694971354, -0.0031081924693690025, 0.06234297267474705, 0.05322357653157806, 0.01753648029067804, 0.09368437040364014, 0.10434848140294695, 0.09362478164116325, 0.03414734372460423, 0.11810628687002882, 0.01595209351422144, 0.03897138044549722, 0.04497658979833933, 0.05384989493807681, 0.04132365764852539, 0.06659613188483121, 0.5175686559601701, 0.0034259698323747512, -0.018369318680815608, 0.017250581234296822, 1.0, 0.03755269162968956, 0.016521133032975564, 0.028410461397093533], [0.07929073073450693, -0.0017670364380940361, -0.009659260098662147, 0.08112295345052463, 0.030926318164672062, 0.04032716866860977, 0.0651017951709533, 0.03770239872117575, 0.011583702230048745, null, 0.006872793586331229, 0.002501021091685323, 0.07186172396294929, 0.04134130741176856, 0.005037761745378437, 0.02805978171205668, 0.03215459844209348, 0.05311535698398118, 0.03315244538642159, 0.07751892252881813, 0.07093264137926239, 0.05434529314765922, 0.08312326250291889, 0.09699219798479342, 0.058431389252692166, 0.058516574395586336, 0.03453697278952563, 0.030067938943729982, 0.23129358476856282, 0.04482880098646375, 0.0807494602671861, 0.04019530062063409, 0.03755269162968956, 1.0, 0.07435515989293252, 0.003701827001782229], [0.12991713470209174, -0.01538381355540266, -0.005605517296087069, 0.1260385577481429, 0.03895905458546226, 0.03221622365412936, 0.044880586354161665, 0.01323486761658358, 0.0065868942273520446, null, 0.04846612055994227, 0.04541819534187744, 0.05338573767767369, 0.002415937402456345, 0.03226090000757744, 0.03123486237588706, 0.0457782639641067, 0.08476908930863272, 0.09675122178990468, 0.15780943982313983, 0.05968969180979447, 0.09968614629236897, 0.0583205660196535, 0.0388928953503118, 0.03665640669285944, 0.027116991685162784, 0.04402915059858696, 0.16411995425001982, 0.3789724161922725, 0.10268009877473233, 0.1557925234437361, 0.06997058082118902, 0.016521133032975564, 0.07435515989293252, 1.0, 0.003298018034832018], [0.2704517539599375, 0.647934248006853, 0.01897465075517052, 0.37485468931147264, 0.09941557377218939, 0.06276973000023475, 0.057051944420630864, 0.04856541587421112, -0.0382047635964211, null, 0.19332409835993306, 0.29787900368193626, 0.2344916430985368, 0.0670052090876142, 0.016776498349196905, 0.008478454588378592, 0.00570143397441091, 0.011044499891400232, 0.1928318485714167, 0.03129224120006232, 0.03947893523625856, 0.07556228705353639, 0.049304836231425314, 0.01643706055590029, 0.020753312483172942, 0.03542574495070948, 0.02163020023654297, 0.0029103170610019413, 0.0791343710358467, 0.0027452502951186386, 0.07075850924642384, 0.004124697654476778, 0.028410461397093533, 0.003701827001782229, 0.003298018034832018, 1.0]]}],                        {\"template\": {\"data\": {\"bar\": [{\"error_x\": {\"color\": \"#2a3f5f\"}, \"error_y\": {\"color\": \"#2a3f5f\"}, \"marker\": {\"line\": {\"color\": \"#E5ECF6\", \"width\": 0.5}}, \"type\": \"bar\"}], \"barpolar\": [{\"marker\": {\"line\": {\"color\": \"#E5ECF6\", \"width\": 0.5}}, \"type\": \"barpolar\"}], \"carpet\": [{\"aaxis\": {\"endlinecolor\": \"#2a3f5f\", \"gridcolor\": \"white\", \"linecolor\": \"white\", \"minorgridcolor\": \"white\", \"startlinecolor\": \"#2a3f5f\"}, \"baxis\": {\"endlinecolor\": \"#2a3f5f\", \"gridcolor\": \"white\", \"linecolor\": \"white\", \"minorgridcolor\": \"white\", \"startlinecolor\": \"#2a3f5f\"}, \"type\": \"carpet\"}], \"choropleth\": [{\"colorbar\": {\"outlinewidth\": 0, \"ticks\": \"\"}, \"type\": \"choropleth\"}], \"contour\": [{\"colorbar\": {\"outlinewidth\": 0, \"ticks\": \"\"}, \"colorscale\": [[0.0, \"#0d0887\"], [0.1111111111111111, \"#46039f\"], [0.2222222222222222, \"#7201a8\"], [0.3333333333333333, \"#9c179e\"], [0.4444444444444444, \"#bd3786\"], [0.5555555555555556, \"#d8576b\"], [0.6666666666666666, \"#ed7953\"], [0.7777777777777778, \"#fb9f3a\"], [0.8888888888888888, \"#fdca26\"], [1.0, \"#f0f921\"]], \"type\": \"contour\"}], \"contourcarpet\": [{\"colorbar\": {\"outlinewidth\": 0, \"ticks\": \"\"}, \"type\": \"contourcarpet\"}], \"heatmap\": [{\"colorbar\": {\"outlinewidth\": 0, \"ticks\": \"\"}, \"colorscale\": [[0.0, \"#0d0887\"], [0.1111111111111111, \"#46039f\"], [0.2222222222222222, \"#7201a8\"], [0.3333333333333333, \"#9c179e\"], [0.4444444444444444, \"#bd3786\"], [0.5555555555555556, \"#d8576b\"], [0.6666666666666666, \"#ed7953\"], [0.7777777777777778, \"#fb9f3a\"], [0.8888888888888888, \"#fdca26\"], [1.0, \"#f0f921\"]], \"type\": \"heatmap\"}], \"heatmapgl\": [{\"colorbar\": {\"outlinewidth\": 0, \"ticks\": \"\"}, \"colorscale\": [[0.0, \"#0d0887\"], [0.1111111111111111, \"#46039f\"], [0.2222222222222222, \"#7201a8\"], [0.3333333333333333, \"#9c179e\"], [0.4444444444444444, \"#bd3786\"], [0.5555555555555556, \"#d8576b\"], [0.6666666666666666, \"#ed7953\"], [0.7777777777777778, \"#fb9f3a\"], [0.8888888888888888, \"#fdca26\"], [1.0, \"#f0f921\"]], \"type\": \"heatmapgl\"}], \"histogram\": [{\"marker\": {\"colorbar\": {\"outlinewidth\": 0, \"ticks\": \"\"}}, \"type\": \"histogram\"}], \"histogram2d\": [{\"colorbar\": {\"outlinewidth\": 0, \"ticks\": \"\"}, \"colorscale\": [[0.0, \"#0d0887\"], [0.1111111111111111, \"#46039f\"], [0.2222222222222222, \"#7201a8\"], [0.3333333333333333, \"#9c179e\"], [0.4444444444444444, \"#bd3786\"], [0.5555555555555556, \"#d8576b\"], [0.6666666666666666, \"#ed7953\"], [0.7777777777777778, \"#fb9f3a\"], [0.8888888888888888, \"#fdca26\"], [1.0, \"#f0f921\"]], \"type\": \"histogram2d\"}], \"histogram2dcontour\": [{\"colorbar\": {\"outlinewidth\": 0, \"ticks\": \"\"}, \"colorscale\": [[0.0, \"#0d0887\"], [0.1111111111111111, \"#46039f\"], [0.2222222222222222, \"#7201a8\"], [0.3333333333333333, \"#9c179e\"], [0.4444444444444444, \"#bd3786\"], [0.5555555555555556, \"#d8576b\"], [0.6666666666666666, \"#ed7953\"], [0.7777777777777778, \"#fb9f3a\"], [0.8888888888888888, \"#fdca26\"], [1.0, \"#f0f921\"]], \"type\": \"histogram2dcontour\"}], \"mesh3d\": [{\"colorbar\": {\"outlinewidth\": 0, \"ticks\": \"\"}, \"type\": \"mesh3d\"}], \"parcoords\": [{\"line\": {\"colorbar\": {\"outlinewidth\": 0, \"ticks\": \"\"}}, \"type\": \"parcoords\"}], \"pie\": [{\"automargin\": true, \"type\": \"pie\"}], \"scatter\": [{\"marker\": {\"colorbar\": {\"outlinewidth\": 0, \"ticks\": \"\"}}, \"type\": \"scatter\"}], \"scatter3d\": [{\"line\": {\"colorbar\": {\"outlinewidth\": 0, \"ticks\": \"\"}}, \"marker\": {\"colorbar\": {\"outlinewidth\": 0, \"ticks\": \"\"}}, \"type\": \"scatter3d\"}], \"scattercarpet\": [{\"marker\": {\"colorbar\": {\"outlinewidth\": 0, \"ticks\": \"\"}}, \"type\": \"scattercarpet\"}], \"scattergeo\": [{\"marker\": {\"colorbar\": {\"outlinewidth\": 0, \"ticks\": \"\"}}, \"type\": \"scattergeo\"}], \"scattergl\": [{\"marker\": {\"colorbar\": {\"outlinewidth\": 0, \"ticks\": \"\"}}, \"type\": \"scattergl\"}], \"scattermapbox\": [{\"marker\": {\"colorbar\": {\"outlinewidth\": 0, \"ticks\": \"\"}}, \"type\": \"scattermapbox\"}], \"scatterpolar\": [{\"marker\": {\"colorbar\": {\"outlinewidth\": 0, \"ticks\": \"\"}}, \"type\": \"scatterpolar\"}], \"scatterpolargl\": [{\"marker\": {\"colorbar\": {\"outlinewidth\": 0, \"ticks\": \"\"}}, \"type\": \"scatterpolargl\"}], \"scatterternary\": [{\"marker\": {\"colorbar\": {\"outlinewidth\": 0, \"ticks\": \"\"}}, \"type\": \"scatterternary\"}], \"surface\": [{\"colorbar\": {\"outlinewidth\": 0, \"ticks\": \"\"}, \"colorscale\": [[0.0, \"#0d0887\"], [0.1111111111111111, \"#46039f\"], [0.2222222222222222, \"#7201a8\"], [0.3333333333333333, \"#9c179e\"], [0.4444444444444444, \"#bd3786\"], [0.5555555555555556, \"#d8576b\"], [0.6666666666666666, \"#ed7953\"], [0.7777777777777778, \"#fb9f3a\"], [0.8888888888888888, \"#fdca26\"], [1.0, \"#f0f921\"]], \"type\": \"surface\"}], \"table\": [{\"cells\": {\"fill\": {\"color\": \"#EBF0F8\"}, \"line\": {\"color\": \"white\"}}, \"header\": {\"fill\": {\"color\": \"#C8D4E3\"}, \"line\": {\"color\": \"white\"}}, \"type\": \"table\"}]}, \"layout\": {\"annotationdefaults\": {\"arrowcolor\": \"#2a3f5f\", \"arrowhead\": 0, \"arrowwidth\": 1}, \"autotypenumbers\": \"strict\", \"coloraxis\": {\"colorbar\": {\"outlinewidth\": 0, \"ticks\": \"\"}}, \"colorscale\": {\"diverging\": [[0, \"#8e0152\"], [0.1, \"#c51b7d\"], [0.2, \"#de77ae\"], [0.3, \"#f1b6da\"], [0.4, \"#fde0ef\"], [0.5, \"#f7f7f7\"], [0.6, \"#e6f5d0\"], [0.7, \"#b8e186\"], [0.8, \"#7fbc41\"], [0.9, \"#4d9221\"], [1, \"#276419\"]], \"sequential\": [[0.0, \"#0d0887\"], [0.1111111111111111, \"#46039f\"], [0.2222222222222222, \"#7201a8\"], [0.3333333333333333, \"#9c179e\"], [0.4444444444444444, \"#bd3786\"], [0.5555555555555556, \"#d8576b\"], [0.6666666666666666, \"#ed7953\"], [0.7777777777777778, \"#fb9f3a\"], [0.8888888888888888, \"#fdca26\"], [1.0, \"#f0f921\"]], \"sequentialminus\": [[0.0, \"#0d0887\"], [0.1111111111111111, \"#46039f\"], [0.2222222222222222, \"#7201a8\"], [0.3333333333333333, \"#9c179e\"], [0.4444444444444444, \"#bd3786\"], [0.5555555555555556, \"#d8576b\"], [0.6666666666666666, \"#ed7953\"], [0.7777777777777778, \"#fb9f3a\"], [0.8888888888888888, \"#fdca26\"], [1.0, \"#f0f921\"]]}, \"colorway\": [\"#636efa\", \"#EF553B\", \"#00cc96\", \"#ab63fa\", \"#FFA15A\", \"#19d3f3\", \"#FF6692\", \"#B6E880\", \"#FF97FF\", \"#FECB52\"], \"font\": {\"color\": \"#2a3f5f\"}, \"geo\": {\"bgcolor\": \"white\", \"lakecolor\": \"white\", \"landcolor\": \"#E5ECF6\", \"showlakes\": true, \"showland\": true, \"subunitcolor\": \"white\"}, \"hoverlabel\": {\"align\": \"left\"}, \"hovermode\": \"closest\", \"mapbox\": {\"style\": \"light\"}, \"paper_bgcolor\": \"white\", \"plot_bgcolor\": \"#E5ECF6\", \"polar\": {\"angularaxis\": {\"gridcolor\": \"white\", \"linecolor\": \"white\", \"ticks\": \"\"}, \"bgcolor\": \"#E5ECF6\", \"radialaxis\": {\"gridcolor\": \"white\", \"linecolor\": \"white\", \"ticks\": \"\"}}, \"scene\": {\"xaxis\": {\"backgroundcolor\": \"#E5ECF6\", \"gridcolor\": \"white\", \"gridwidth\": 2, \"linecolor\": \"white\", \"showbackground\": true, \"ticks\": \"\", \"zerolinecolor\": \"white\"}, \"yaxis\": {\"backgroundcolor\": \"#E5ECF6\", \"gridcolor\": \"white\", \"gridwidth\": 2, \"linecolor\": \"white\", \"showbackground\": true, \"ticks\": \"\", \"zerolinecolor\": \"white\"}, \"zaxis\": {\"backgroundcolor\": \"#E5ECF6\", \"gridcolor\": \"white\", \"gridwidth\": 2, \"linecolor\": \"white\", \"showbackground\": true, \"ticks\": \"\", \"zerolinecolor\": \"white\"}}, \"shapedefaults\": {\"line\": {\"color\": \"#2a3f5f\"}}, \"ternary\": {\"aaxis\": {\"gridcolor\": \"white\", \"linecolor\": \"white\", \"ticks\": \"\"}, \"baxis\": {\"gridcolor\": \"white\", \"linecolor\": \"white\", \"ticks\": \"\"}, \"bgcolor\": \"#E5ECF6\", \"caxis\": {\"gridcolor\": \"white\", \"linecolor\": \"white\", \"ticks\": \"\"}}, \"title\": {\"x\": 0.05}, \"xaxis\": {\"automargin\": true, \"gridcolor\": \"white\", \"linecolor\": \"white\", \"ticks\": \"\", \"title\": {\"standoff\": 15}, \"zerolinecolor\": \"white\", \"zerolinewidth\": 2}, \"yaxis\": {\"automargin\": true, \"gridcolor\": \"white\", \"linecolor\": \"white\", \"ticks\": \"\", \"title\": {\"standoff\": 15}, \"zerolinecolor\": \"white\", \"zerolinewidth\": 2}}}},                        {\"responsive\": true}                    ).then(function(){\n",
       "                            \n",
       "var gd = document.getElementById('1c5c4501-22ad-448d-93db-a4a68e79ac9d');\n",
       "var x = new MutationObserver(function (mutations, observer) {{\n",
       "        var display = window.getComputedStyle(gd).display;\n",
       "        if (!display || display === 'none') {{\n",
       "            console.log([gd, 'removed!']);\n",
       "            Plotly.purge(gd);\n",
       "            observer.disconnect();\n",
       "        }}\n",
       "}});\n",
       "\n",
       "// Listen for the removal of the full notebook cells\n",
       "var notebookContainer = gd.closest('#notebook-container');\n",
       "if (notebookContainer) {{\n",
       "    x.observe(notebookContainer, {childList: true});\n",
       "}}\n",
       "\n",
       "// Listen for the clearing of the current output cell\n",
       "var outputEl = gd.closest('.output');\n",
       "if (outputEl) {{\n",
       "    x.observe(outputEl, {childList: true});\n",
       "}}\n",
       "\n",
       "                        })                };                });            </script>        </div>"
      ]
     },
     "metadata": {},
     "output_type": "display_data"
    }
   ],
   "source": [
    "# correlation matrix\n",
    "corr = df.iloc[:,4:].corr()\n",
    "\n",
    "fig = go.Figure(data=[go.Heatmap(\n",
    "                   z=corr.values,\n",
    "                   x=corr.index,\n",
    "                   y=corr.columns,\n",
    "                   hoverongaps = False\n",
    ")])\n",
    "fig.show()"
   ]
  },
  {
   "cell_type": "markdown",
   "metadata": {},
   "source": [
    "### 2. Write a tokenization function to process your text data"
   ]
  },
  {
   "cell_type": "code",
   "execution_count": 4,
   "metadata": {},
   "outputs": [],
   "source": [
    "def tokenize(text):\n",
    "    \"\"\"\n",
    "    function: \n",
    "        separates messages into root form of lower case word tokens without punctuation or stopwords\n",
    "    args:\n",
    "        text(str): message to be later classified\n",
    "    returns:\n",
    "        lemmed(list of str): list of root forms of lower case word tokens without punctuation or stopwords of the message\n",
    "    \"\"\"\n",
    "    text = re.sub(r\"[^a-zA-Z0-9]\", \" \", text.lower())\n",
    "    words = word_tokenize(text)\n",
    "    words = [w for w in words if w not in stopwords.words(\"english\")]\n",
    "    \n",
    "    # lemmatization: Reduce words to their root form\n",
    "    lemmed = [WordNetLemmatizer().lemmatize(w) for w in words]\n",
    "    \n",
    "    return lemmed"
   ]
  },
  {
   "cell_type": "markdown",
   "metadata": {},
   "source": [
    "### 3. Build a machine learning pipeline\n",
    "This machine pipeline should take in the `message` column as input and output classification results on the other 36 categories in the dataset. You may find the [MultiOutputClassifier](http://scikit-learn.org/stable/modules/generated/sklearn.multioutput.MultiOutputClassifier.html) helpful for predicting multiple target variables."
   ]
  },
  {
   "cell_type": "markdown",
   "metadata": {},
   "source": [
    "see 5. Test your model"
   ]
  },
  {
   "cell_type": "markdown",
   "metadata": {},
   "source": [
    "### 4. Train pipeline\n",
    "- Split data into train and test sets\n",
    "- Train pipeline"
   ]
  },
  {
   "cell_type": "markdown",
   "metadata": {},
   "source": [
    "see 5. Test your model"
   ]
  },
  {
   "cell_type": "markdown",
   "metadata": {},
   "source": [
    "### 5. Test your model\n",
    "Report the f1 score, precision and recall for each output category of the dataset. You can do this by iterating through the columns and calling sklearn's `classification_report` on each."
   ]
  },
  {
   "cell_type": "code",
   "execution_count": 5,
   "metadata": {},
   "outputs": [],
   "source": [
    "def show_results(Y_test, Y_pred, features):\n",
    "    \"\"\"\n",
    "    function: prints out statistics of the results after fitting and predicting a model\n",
    "    args:\n",
    "        Y_test(numpy.ndarray): test data from train_test_split\n",
    "        Y_pred(numpy.ndarray): predicted data\n",
    "        features(list of str): list of column names of the features to be predicted\n",
    "    return:\n",
    "        df_res(DataFrame): DataFrame containing the classification report data for each feature\n",
    "    \"\"\"\n",
    "    \n",
    "    subset_accuracy = accuracy_score(Y_test, Y_pred) # subset_accuracy: the set of labels predicted for a sample must exactly match the corresponding set of labels in Y_test.\n",
    "    overall_accuracy = (Y_pred == Y_test).mean()\n",
    "    print(\"subset_accuracy: {:.3f}\\noverall_accuracy: {:.3f}\".format(subset_accuracy, overall_accuracy))\n",
    "\n",
    "    # create a results dataframe containing the classification reports for all columns (multiindexed)\n",
    "    df_res = pd.DataFrame()\n",
    "    i=0\n",
    "    for y_test, y_pred in zip(Y_test.transpose(), Y_pred.transpose()):\n",
    "        df_temp = pd.DataFrame.from_dict(classification_report(y_test, y_pred, output_dict=True, zero_division=1))\n",
    "        df_temp = pd.concat([df_temp], axis=1, keys=[features[i]]) # add column name as additional level\n",
    "        df_res = pd.concat([df_res, df_temp], axis=1)\n",
    "        i+=1\n",
    "\n",
    "    # overall mean classification report values:\n",
    "    display(df_res.transpose().mean())\n",
    "    # display(df_res.transpose())"
   ]
  },
  {
   "cell_type": "code",
   "execution_count": null,
   "metadata": {
    "scrolled": false
   },
   "outputs": [],
   "source": [
    "list_classifier = [MLPClassifier(), KNeighborsClassifier(), GaussianNB(), RandomForestClassifier(), AdaBoostClassifier()]\n",
    "\n",
    "print(\"Starting Script Execution at {}\".format(datetime.now()))\n",
    "\n",
    "for clf in list_classifier:\n",
    "    start_time = time.time()\n",
    "    print(str(clf))\n",
    "    pipeline = Pipeline([\n",
    "            ('tfidfvect', TfidfVectorizer(tokenizer = tokenize)),\n",
    "            ('to_dense', FunctionTransformer(lambda x: x.todense(), accept_sparse=True)), # so that GaussianNB works\n",
    "            ('clf',  MultiOutputClassifier(clf))\n",
    "        ])\n",
    "\n",
    "    X_train, X_test, Y_train, Y_test = train_test_split(X, Y) \n",
    "\n",
    "    # train pipeline/classifier\n",
    "    pipeline.fit(X_train, Y_train)\n",
    "\n",
    "    # predict on test data\n",
    "    Y_pred = pipeline.predict(X_test)\n",
    "    \n",
    "    df_res = show_results(Y_test, Y_pred, features)\n",
    "    \n",
    "    print(\"--- {:.0f}s seconds to apply {} ---\\n\".format((time.time() - start_time), str(clf)))\n",
    "    \n",
    "print(\"End of ML Pipeline Execution at {}\".format(datetime.now()))"
   ]
  },
  {
   "cell_type": "markdown",
   "metadata": {},
   "source": [
    "### Results with 5% sample of the data\n",
    "Starting Script Execution at 2021-09-26 19:12:45.116248\n",
    "\n",
    "MLPClassifier()\n",
    "subset_accuracy: 0.183\n",
    "overall_accuracy: 0.932\n",
    "precision     0.88\n",
    "recall        0.72\n",
    "f1-score      0.73\n",
    "support     199.20\n",
    "dtype: float64\n",
    "--- 474s seconds to apply MLPClassifier() ---\n",
    "\n",
    "KNeighborsClassifier()\n",
    "subset_accuracy: 0.192\n",
    "overall_accuracy: 0.934\n",
    "precision     0.87\n",
    "recall        0.71\n",
    "f1-score      0.71\n",
    "support     198.09\n",
    "dtype: float64\n",
    "--- 484s seconds to apply KNeighborsClassifier() ---\n",
    "\n",
    "GaussianNB()\n",
    "subset_accuracy: 0.091\n",
    "overall_accuracy: 0.895\n",
    "precision     0.68\n",
    "recall        0.69\n",
    "f1-score      0.68\n",
    "support     198.08\n",
    "dtype: float64\n",
    "--- 495s seconds to apply GaussianNB() ---\n",
    "\n",
    "RandomForestClassifier()\n",
    "subset_accuracy: 0.146\n",
    "overall_accuracy: 0.927\n",
    "precision     0.92\n",
    "recall        0.69\n",
    "f1-score      0.69\n",
    "support     198.09\n",
    "dtype: float64\n",
    "--- 551s seconds to apply RandomForestClassifier() ---\n",
    "\n",
    "AdaBoostClassifier()\n",
    "subset_accuracy: 0.146\n",
    "overall_accuracy: 0.934\n",
    "precision     0.79\n",
    "recall        0.76\n",
    "f1-score      0.76\n",
    "support     199.20\n",
    "dtype: float64\n",
    "--- 691s seconds to apply AdaBoostClassifier() ---"
   ]
  },
  {
   "cell_type": "markdown",
   "metadata": {},
   "source": [
    "### Results with 10% sample of the data:\n",
    "Starting Script Execution at 2021-09-26 19:28:05.530925\n",
    "\n",
    "MLPClassifier()\n",
    "subset_accuracy: 0.213\n",
    "overall_accuracy: 0.937\n",
    "precision     0.81\n",
    "recall        0.73\n",
    "f1-score      0.74\n",
    "support     398.21\n",
    "dtype: float64\n",
    "--- 1106s seconds to apply MLPClassifier() ---\n",
    "\n",
    "KNeighborsClassifier()\n",
    "subset_accuracy: 0.201\n",
    "overall_accuracy: 0.934\n",
    "precision     0.85\n",
    "recall        0.72\n",
    "f1-score      0.72\n",
    "support     398.21\n",
    "dtype: float64\n",
    "--- 23s seconds to apply KNeighborsClassifier() ---\n",
    "\n",
    "GaussianNB()\n",
    "subset_accuracy: 0.119\n",
    "overall_accuracy: 0.890\n",
    "precision     0.69\n",
    "recall        0.68\n",
    "f1-score      0.68\n",
    "support     395.98\n",
    "dtype: float64\n",
    "--- 26s seconds to apply GaussianNB() ---\n",
    "\n",
    "RandomForestClassifier()\n",
    "subset_accuracy: 0.232\n",
    "overall_accuracy: 0.941\n",
    "precision     0.92\n",
    "recall        0.71\n",
    "f1-score      0.71\n",
    "support     395.99\n",
    "dtype: float64\n",
    "--- 257s seconds to apply RandomForestClassifier() ---\n",
    "\n",
    "AdaBoostClassifier()\n",
    "subset_accuracy: 0.180\n",
    "overall_accuracy: 0.938\n",
    "precision     0.80\n",
    "recall        0.75\n",
    "f1-score      0.76\n",
    "support     395.99\n",
    "dtype: float64\n",
    "--- 493s seconds to apply AdaBoostClassifier() ---"
   ]
  },
  {
   "cell_type": "markdown",
   "metadata": {},
   "source": [
    "### Conclusion / Choice of classifier\n",
    "- MLPClassifier needs way to much time for results close to the others\n",
    "- GaussianNB has the worst results\n",
    "- RandomForestClassifier and AdaBoostClassifier have good results but take very long (subset accuracy became much better with a bigger sample-size\n",
    "- KNeighborsClassifier is very fast and has as well very good results\n",
    "\n",
    "\n",
    "- KNeighborsClassifier will be used for further tuning"
   ]
  },
  {
   "cell_type": "markdown",
   "metadata": {},
   "source": [
    "### 6. Improve your model\n",
    "Use grid search to find better parameters. "
   ]
  },
  {
   "cell_type": "code",
   "execution_count": 6,
   "metadata": {},
   "outputs": [
    {
     "name": "stdout",
     "output_type": "stream",
     "text": [
      "KNeighborsClassifier()\n",
      "--- 18s seconds to apply KNeighborsClassifier() ---\n",
      "\n",
      "subset_accuracy: 0.229\n",
      "overall_accuracy: 0.934\n"
     ]
    },
    {
     "data": {
      "text/plain": [
       "precision     0.88\n",
       "recall        0.71\n",
       "f1-score      0.72\n",
       "support     395.99\n",
       "dtype: float64"
      ]
     },
     "metadata": {},
     "output_type": "display_data"
    }
   ],
   "source": [
    "clf = KNeighborsClassifier()\n",
    "\n",
    "start_time = time.time()\n",
    "print(str(clf))\n",
    "pipeline = Pipeline([\n",
    "        ('tfidfvect', TfidfVectorizer(tokenizer = tokenize)),\n",
    "        ('clf',  MultiOutputClassifier(clf))\n",
    "    ])\n",
    "\n",
    "X_train, X_test, Y_train, Y_test = train_test_split(X, Y) \n",
    "\n",
    "# train pipeline/classifier\n",
    "pipeline.fit(X_train, Y_train)\n",
    "\n",
    "# predict on test data\n",
    "Y_pred = pipeline.predict(X_test)\n",
    "\n",
    "print(\"--- {:.0f}s seconds to apply {} ---\\n\".format((time.time() - start_time), str(clf)))\n",
    "\n",
    "df_res = show_results(Y_test, Y_pred, features)"
   ]
  },
  {
   "cell_type": "code",
   "execution_count": 17,
   "metadata": {},
   "outputs": [
    {
     "data": {
      "text/plain": [
       "{'memory': None,\n",
       " 'steps': [('tfidfvect',\n",
       "   TfidfVectorizer(tokenizer=<function tokenize at 0x000001837BADA700>)),\n",
       "  ('clf', MultiOutputClassifier(estimator=KNeighborsClassifier()))],\n",
       " 'verbose': False,\n",
       " 'tfidfvect': TfidfVectorizer(tokenizer=<function tokenize at 0x000001837BADA700>),\n",
       " 'clf': MultiOutputClassifier(estimator=KNeighborsClassifier()),\n",
       " 'tfidfvect__analyzer': 'word',\n",
       " 'tfidfvect__binary': False,\n",
       " 'tfidfvect__decode_error': 'strict',\n",
       " 'tfidfvect__dtype': numpy.float64,\n",
       " 'tfidfvect__encoding': 'utf-8',\n",
       " 'tfidfvect__input': 'content',\n",
       " 'tfidfvect__lowercase': True,\n",
       " 'tfidfvect__max_df': 1.0,\n",
       " 'tfidfvect__max_features': None,\n",
       " 'tfidfvect__min_df': 1,\n",
       " 'tfidfvect__ngram_range': (1, 1),\n",
       " 'tfidfvect__norm': 'l2',\n",
       " 'tfidfvect__preprocessor': None,\n",
       " 'tfidfvect__smooth_idf': True,\n",
       " 'tfidfvect__stop_words': None,\n",
       " 'tfidfvect__strip_accents': None,\n",
       " 'tfidfvect__sublinear_tf': False,\n",
       " 'tfidfvect__token_pattern': '(?u)\\\\b\\\\w\\\\w+\\\\b',\n",
       " 'tfidfvect__tokenizer': <function __main__.tokenize(text)>,\n",
       " 'tfidfvect__use_idf': True,\n",
       " 'tfidfvect__vocabulary': None,\n",
       " 'clf__estimator__algorithm': 'auto',\n",
       " 'clf__estimator__leaf_size': 30,\n",
       " 'clf__estimator__metric': 'minkowski',\n",
       " 'clf__estimator__metric_params': None,\n",
       " 'clf__estimator__n_jobs': None,\n",
       " 'clf__estimator__n_neighbors': 5,\n",
       " 'clf__estimator__p': 2,\n",
       " 'clf__estimator__weights': 'uniform',\n",
       " 'clf__estimator': KNeighborsClassifier(),\n",
       " 'clf__n_jobs': None}"
      ]
     },
     "metadata": {},
     "output_type": "display_data"
    }
   ],
   "source": [
    "display(pipeline.get_params())\n",
    "\n",
    "params_pick = {\n",
    "        #'tfidfvect__use_idf': (True, False),\n",
    "        'clf__estimator__n_neighbors': [3, 5, 8]\n",
    "}\n",
    "\n",
    "cv = GridSearchCV(pipeline, param_grid = params_pick)"
   ]
  },
  {
   "cell_type": "markdown",
   "metadata": {},
   "source": [
    "### 7. Test your model\n",
    "Show the accuracy, precision, and recall of the tuned model.  \n",
    "\n",
    "Since this project focuses on code quality, process, and  pipelines, there is no minimum performance metric needed to pass. However, make sure to fine tune your models for accuracy, precision and recall to make your project stand out - especially for your portfolio!"
   ]
  },
  {
   "cell_type": "code",
   "execution_count": 18,
   "metadata": {},
   "outputs": [
    {
     "name": "stdout",
     "output_type": "stream",
     "text": [
      "subset_accuracy: 0.253\n",
      "overall_accuracy: 0.936\n"
     ]
    },
    {
     "data": {
      "text/plain": [
       "precision     0.92\n",
       "recall        0.71\n",
       "f1-score      0.71\n",
       "support     395.99\n",
       "dtype: float64"
      ]
     },
     "metadata": {},
     "output_type": "display_data"
    }
   ],
   "source": [
    "cv.fit(X_train, Y_train)\n",
    "Y_pred = cv.predict(X_test)\n",
    "df_res = show_results(Y_test, Y_pred, features)"
   ]
  },
  {
   "cell_type": "code",
   "execution_count": 16,
   "metadata": {},
   "outputs": [
    {
     "name": "stdout",
     "output_type": "stream",
     "text": [
      "{'clf__estimator__n_neighbors': 8}\n"
     ]
    }
   ],
   "source": [
    "print(cv.best_params_)"
   ]
  },
  {
   "cell_type": "markdown",
   "metadata": {},
   "source": [
    "### Results after GridSearchCV:\n",
    "subset_accuracy: 0.277\n",
    "overall_accuracy: 0.943\n",
    "precision     0.93\n",
    "recall        0.72\n",
    "f1-score      0.72\n",
    "support     395.99"
   ]
  },
  {
   "cell_type": "markdown",
   "metadata": {},
   "source": [
    "### 8. Try improving your model further. Here are a few ideas:\n",
    "* try other machine learning algorithms\n",
    "* add other features besides the TF-IDF"
   ]
  },
  {
   "cell_type": "markdown",
   "metadata": {},
   "source": [
    "-> see tests above"
   ]
  },
  {
   "cell_type": "markdown",
   "metadata": {},
   "source": [
    "### 9. Export your model as a pickle file"
   ]
  },
  {
   "cell_type": "code",
   "execution_count": null,
   "metadata": {},
   "outputs": [],
   "source": [
    "# save model as pickle file\n",
    "with open ('classifier.pkl', 'wb') as f:\n",
    "    pickle.dump(cv, f)"
   ]
  },
  {
   "cell_type": "markdown",
   "metadata": {},
   "source": [
    "### 10. Use this notebook to complete `train.py`\n",
    "Use the template file attached in the Resources folder to write a script that runs the steps above to create a database and export a model based on a new dataset specified by the user."
   ]
  },
  {
   "cell_type": "code",
   "execution_count": null,
   "metadata": {},
   "outputs": [],
   "source": []
  }
 ],
 "metadata": {
  "hide_input": false,
  "kernelspec": {
   "display_name": "Python 3",
   "language": "python",
   "name": "python3"
  },
  "language_info": {
   "codemirror_mode": {
    "name": "ipython",
    "version": 3
   },
   "file_extension": ".py",
   "mimetype": "text/x-python",
   "name": "python",
   "nbconvert_exporter": "python",
   "pygments_lexer": "ipython3",
   "version": "3.8.0"
  },
  "toc": {
   "base_numbering": 1,
   "nav_menu": {},
   "number_sections": false,
   "sideBar": true,
   "skip_h1_title": true,
   "title_cell": "Table of Contents",
   "title_sidebar": "Contents",
   "toc_cell": true,
   "toc_position": {},
   "toc_section_display": true,
   "toc_window_display": false
  },
  "varInspector": {
   "cols": {
    "lenName": 16,
    "lenType": 16,
    "lenVar": 40
   },
   "kernels_config": {
    "python": {
     "delete_cmd_postfix": "",
     "delete_cmd_prefix": "del ",
     "library": "var_list.py",
     "varRefreshCmd": "print(var_dic_list())"
    },
    "r": {
     "delete_cmd_postfix": ") ",
     "delete_cmd_prefix": "rm(",
     "library": "var_list.r",
     "varRefreshCmd": "cat(var_dic_list()) "
    }
   },
   "types_to_exclude": [
    "module",
    "function",
    "builtin_function_or_method",
    "instance",
    "_Feature"
   ],
   "window_display": false
  }
 },
 "nbformat": 4,
 "nbformat_minor": 2
}
