{
 "cells": [
  {
   "cell_type": "markdown",
   "id": "aware-laugh",
   "metadata": {
    "toc": true
   },
   "source": [
    "<h1>Table of Contents<span class=\"tocSkip\"></span></h1>\n",
    "<div class=\"toc\"><ul class=\"toc-item\"><li><span><a href=\"#Project-Steps\" data-toc-modified-id=\"Project-Steps-1\">Project Steps</a></span><ul class=\"toc-item\"><li><span><a href=\"#1.-ETL-Pipeline\" data-toc-modified-id=\"1.-ETL-Pipeline-1.1\">1. ETL Pipeline</a></span></li><li><span><a href=\"#2.-ML-Pipeline\" data-toc-modified-id=\"2.-ML-Pipeline-1.2\">2. ML Pipeline</a></span></li><li><span><a href=\"#3.-Flask-Web-App\" data-toc-modified-id=\"3.-Flask-Web-App-1.3\">3. Flask Web App</a></span></li><li><span><a href=\"#Github-and-Code-Quality\" data-toc-modified-id=\"Github-and-Code-Quality-1.4\">Github and Code Quality</a></span></li><li><span><a href=\"#Questions-to-the-reviewer\" data-toc-modified-id=\"Questions-to-the-reviewer-1.5\">Questions to the reviewer</a></span></li></ul></li></ul></div>"
   ]
  },
  {
   "cell_type": "markdown",
   "id": "destroyed-ecuador",
   "metadata": {},
   "source": [
    "# Project_2 Desaster Response"
   ]
  },
  {
   "cell_type": "markdown",
   "id": "final-villa",
   "metadata": {},
   "source": [
    "## Project Steps"
   ]
  },
  {
   "cell_type": "markdown",
   "id": "eight-thomas",
   "metadata": {},
   "source": [
    "### 1. ETL Pipeline\n",
    "In a Python script, process_data.py, write a data cleaning pipeline that:\n",
    "\n",
    "\n",
    "Loads the messages and categories datasets\n",
    "Merges the two datasets\n",
    "Cleans the data\n",
    "Stores it in a SQLite database\n",
    "\n",
    "### 2. ML Pipeline\n",
    "In a Python script, train_classifier.py, write a machine learning pipeline that:\n",
    "\n",
    "\n",
    "Loads data from the SQLite database\n",
    "Splits the dataset into training and test sets\n",
    "Builds a text processing and machine learning pipeline\n",
    "Trains and tunes a model using GridSearchCV\n",
    "Outputs results on the test set\n",
    "Exports the final model as a pickle file\n",
    "\n",
    "### 3. Flask Web App\n",
    "We are providing much of the flask web app for you, but feel free to add extra features depending on your knowledge of flask, html, css and javascript. For this part, you'll need to:\n",
    "\n",
    "\n",
    "Modify file paths for database and model as needed\n",
    "Add data visualizations using Plotly in the web app. One example is provided for you\n",
    "\n",
    "### Github and Code Quality\n",
    "Your project will also be graded based on the following:\n",
    "\n",
    "\n",
    "Use of Git and Github\n",
    "Strong documentation\n",
    "Clean and modular code"
   ]
  },
  {
   "cell_type": "markdown",
   "id": "respective-stylus",
   "metadata": {},
   "source": [
    "### Questions to the reviewer"
   ]
  }
 ],
 "metadata": {
  "hide_input": false,
  "kernelspec": {
   "display_name": "Python 3",
   "language": "python",
   "name": "python3"
  },
  "language_info": {
   "codemirror_mode": {
    "name": "ipython",
    "version": 3
   },
   "file_extension": ".py",
   "mimetype": "text/x-python",
   "name": "python",
   "nbconvert_exporter": "python",
   "pygments_lexer": "ipython3",
   "version": "3.8.0"
  },
  "toc": {
   "base_numbering": 1,
   "nav_menu": {},
   "number_sections": false,
   "sideBar": true,
   "skip_h1_title": true,
   "title_cell": "Table of Contents",
   "title_sidebar": "Contents",
   "toc_cell": true,
   "toc_position": {},
   "toc_section_display": true,
   "toc_window_display": false
  },
  "varInspector": {
   "cols": {
    "lenName": 16,
    "lenType": 16,
    "lenVar": 40
   },
   "kernels_config": {
    "python": {
     "delete_cmd_postfix": "",
     "delete_cmd_prefix": "del ",
     "library": "var_list.py",
     "varRefreshCmd": "print(var_dic_list())"
    },
    "r": {
     "delete_cmd_postfix": ") ",
     "delete_cmd_prefix": "rm(",
     "library": "var_list.r",
     "varRefreshCmd": "cat(var_dic_list()) "
    }
   },
   "types_to_exclude": [
    "module",
    "function",
    "builtin_function_or_method",
    "instance",
    "_Feature"
   ],
   "window_display": false
  }
 },
 "nbformat": 4,
 "nbformat_minor": 5
}
